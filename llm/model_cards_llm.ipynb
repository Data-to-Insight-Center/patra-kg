{
 "cells": [
  {
   "cell_type": "code",
   "execution_count": 307,
   "outputs": [
    {
     "name": "stdout",
     "output_type": "stream",
     "text": [
      "\u001B[33mWARNING: You are using pip version 21.3.1; however, version 24.0 is available.\r\n",
      "You should consider upgrading via the '/Users/swithana/git/ai-model-cards/venv/bin/python -m pip install --upgrade pip' command.\u001B[0m\r\n"
     ]
    }
   ],
   "source": [
    "# !pip install langchain\n",
    "# !pip install langchain-openai\n",
    "# !pip install neo4j\n",
    "# !pip install --upgrade --quiet  google-search-results\n",
    "# !pip install --quiet rogue\n",
    "#!pip install -q -U google-generativeai\n",
    "import numpy as np\n",
    "!pip install --upgrade --quiet  langchain-google-genai"
   ],
   "metadata": {
    "collapsed": false,
    "pycharm": {
     "name": "#%%\n"
    }
   }
  },
  {
   "cell_type": "code",
   "execution_count": 13,
   "outputs": [],
   "source": [
    "from langchain.chains import GraphCypherQAChain\n",
    "from langchain_community.graphs import Neo4jGraph\n",
    "from langchain import OpenAI\n",
    "from langchain.tools.retriever import create_retriever_tool\n",
    "from langchain.prompts.prompt import PromptTemplate\n",
    "from langchain.agents import Tool\n",
    "from langchain.agents import initialize_agent\n",
    "from langchain_community.tools.google_scholar import GoogleScholarQueryRun\n",
    "from langchain_community.utilities.google_scholar import GoogleScholarAPIWrapper\n",
    "from langchain.memory import ConversationBufferMemory, ConversationBufferWindowMemory\n",
    "from langchain import OpenAI, LLMChain, PromptTemplate\n",
    "from langchain_openai import ChatOpenAI\n",
    "from langchain_community.chat_models import ChatOllama\n",
    "\n",
    "\n",
    "from langchain_community.llms import Ollama\n",
    "from langchain_google_vertexai import VertexAI\n",
    "import google.generativeai as palm\n",
    "from langchain_google_genai import GoogleGenerativeAI\n",
    "import numpy as np"
   ],
   "metadata": {
    "collapsed": false,
    "pycharm": {
     "name": "#%%\n"
    }
   }
  },
  {
   "cell_type": "code",
   "execution_count": 110,
   "outputs": [],
   "source": [
    "graph = Neo4jGraph(\n",
    "    url=\"bolt://localhost:7689\", username=\"neo4j\", password=\"rootroot\"\n",
    ")"
   ],
   "metadata": {
    "collapsed": false,
    "pycharm": {
     "name": "#%%\n"
    }
   }
  },
  {
   "cell_type": "code",
   "execution_count": 111,
   "outputs": [
    {
     "name": "stdout",
     "output_type": "stream",
     "text": [
      "Node properties are the following:\n",
      "Datasheet {Associated_tasks: STRING, Dataset_characteristics: STRING, target_variable: STRING, subject_area: STRING, source: STRING, name: STRING, license: STRING, missing_values: BOOLEAN, version: STRING, doi: STRING, external_id: STRING, categories: STRING, description: STRING, download_url: STRING, attribute_types: STRING, datapoints: INTEGER},ModelCard {input_type: STRING, author: STRING, output_data: STRING, name: STRING, keywords: STRING, external_id: STRING, categories: STRING, full_description: STRING, input_data: STRING, short_description: STRING, v_embedding: LIST, embedding: LIST, version: STRING},AIModel {train_accuracy: FLOAT, mean_squared_error: FLOAT, learning_rate: FLOAT, batch_size: INTEGER, name: STRING, license: STRING, version: STRING, num_epochs: INTEGER, test_accuracy: FLOAT, description: STRING, external_id: STRING, model_type: STRING, owner: STRING, foundational_model: STRING, framework: STRING, location: STRING},BiasAnalysis {true_negative_rate: FLOAT, false_negative_rate: FLOAT, true_positive_rate: FLOAT, false_positives: INTEGER, false_negatives: INTEGER, false_positive_rate: FLOAT, equal_odds_difference: FLOAT, true_positives: INTEGER, true_negatives: INTEGER, external_id: STRING, name: STRING, demographic_parity_diff: FLOAT},ExplainabilityAnalysis {capital_loss: FLOAT, age: FLOAT, external_id: STRING, name: STRING, capital_gain: FLOAT},EdgeDevice {ai_capabilities_machine_learning: BOOLEAN, ai_capabilities_computer_vision: BOOLEAN, cpu_cores: INTEGER, cpu_max_frequency: STRING, ai_capabilities_deep_learning: BOOLEAN, description: STRING, cpu_architecture: STRING, external_id: STRING, name: STRING, gpu_memory: STRING, gpu_architecture: STRING, gpu_cuda_cores: INTEGER},Deployment {start_time: LOCAL_DATE_TIME, power_consumption_peak_watts: FLOAT, requests_served: FLOAT, mean_accuracy: FLOAT, mean_latency_ms: INTEGER, power_consumption_average_watts: INTEGER, end_time: LOCAL_DATE_TIME, gpu_consumption_average_percentage: INTEGER, gpu_consumption_peak_percentage: INTEGER, name: STRING, deployment_location: STRING, duration_minutes: INTEGER, external_id: STRING, cpu_consumption_average_percentage: INTEGER, cpu_consumption_peak_percentage: INTEGER, deployment_environment: STRING}\n",
      "Relationship properties are the following:\n",
      "\n",
      "The relationships are the following:\n",
      "(:ModelCard)-[:XAI_ANALYSIS]->(:ExplainabilityAnalysis),(:ModelCard)-[:TRAINED_ON]->(:Datasheet),(:ModelCard)-[:AI_MODEL]->(:AIModel),(:ModelCard)-[:BIAS_ANALYSIS]->(:BiasAnalysis),(:ModelCard)-[:Deployed_On]->(:Deployment),(:Deployment)-[:On_Device_Type]->(:EdgeDevice)\n"
     ]
    }
   ],
   "source": [
    "graph.refresh_schema()\n",
    "print(graph.schema)"
   ],
   "metadata": {
    "collapsed": false,
    "pycharm": {
     "name": "#%%\n"
    }
   }
  },
  {
   "cell_type": "code",
   "execution_count": 112,
   "outputs": [],
   "source": [
    "openai_api_key = \"\"\n",
    "ser_api_key = \"\"\n",
    "vertex_api_key = \"\"\n",
    "palm.configure(api_key=vertex_api_key)"
   ],
   "metadata": {
    "collapsed": false,
    "pycharm": {
     "name": "#%%\n"
    }
   }
  },
  {
   "cell_type": "code",
   "execution_count": 113,
   "outputs": [],
   "source": [
    "openai = OpenAI(temperature=0, openai_api_key=openai_api_key)\n",
    "chat_gpt = ChatOpenAI(temperature=0.2, openai_api_key=openai_api_key, model=\"gpt-4\")\n",
    "chat_gpt35 = ChatOpenAI(temperature=0.2, openai_api_key=openai_api_key, model=\"gpt-3.5-turbo\")\n",
    "gemma = Ollama(model=\"gemma:7b\")\n",
    "codellama7b = Ollama(model=\"codellama:7b\", num_predict=128, temperature=0.2)\n",
    "codellama13b = Ollama(model=\"codellama:13b\", num_predict=128, temperature=0.2)\n",
    "# llama2 = Ollama(model=\"llama2:text\")\n",
    "mistral = ChatOllama(model=\"mistral\", num_predict=128, temperature=0.2)\n",
    "gemini = GoogleGenerativeAI(model=\"models/gemini-1.0-pro\", google_api_key=vertex_api_key)\n",
    "# codey = GoogleGenerativeAI(model=\"models/codechat-bison\", google_api_key=vertex_api_key)"
   ],
   "metadata": {
    "collapsed": false,
    "pycharm": {
     "name": "#%%\n"
    }
   }
  },
  {
   "cell_type": "code",
   "execution_count": 114,
   "outputs": [],
   "source": [
    "CYPHER_GENERATION_TEMPLATE = \"\"\"Task:Generate Cypher statement to query a graph database.\n",
    "Instructions:\n",
    "Use only the provided relationship types and properties in the schema.\n",
    "\n",
    "DO NOT ALLOW DELETE, INSERT, UPDATE queries. In that case, say this is not allowed, contacting system administrator.\n",
    "\n",
    "Do not use any other relationship types or properties that are not provided.\n",
    "Schema:\n",
    "{schema}\n",
    "This is important. if it mentions ID, that means external_id field.\n",
    "\n",
    "When returning the modelcard or model information, return the external_id instead of the name.\n",
    "\n",
    "If a model needs to refer to accuracy, it  usually refers to the accuracy information in the AI_MODEL associated with the model card. You can use a query like this to get that information linking the model card with technical information.  For example, to get the highest accuracy models:\n",
    "match(mc:ModelCard)-[]->(ai:AIModel)\n",
    "with mc.external_id as mcid, ai.test_accuracy as test_accuracy\n",
    "order by test_accuracy DESC\n",
    "limit 1\n",
    "Return mcid, test_accuracy\n",
    "\n",
    "But if it's deployment related, use the mean_accuracy in the deployment nodes instead.\n",
    "\n",
    "Bias or fairness information about a model card is contained in the BIAS_ANALYSIS associated with the model card.\n",
    "\n",
    "Devices does not have a name field. d.name is equal to d.device_id. Use that instead.\n",
    "When querying for device, use the name of the device in the device_id field.\n",
    "\n",
    "when returning model cards or models, remove the v_embedding field. Do not include that in results.\n",
    "\n",
    "For devices, use the given name in the external_id field.\n",
    "\n",
    "To getting similar to or closest to models, you can compare the model cards embedding field using cosine similarity.\n",
    "Here's an example query to run to get the similar or close models. I've added <> for variables you can change.\n",
    "MATCH (mc:ModelCard external_id: <id>)\n",
    "                WITH mc.embedding AS given_embedding\n",
    "                CALL db.index.vector.queryNodes('embedding', <num of results>, given_embedding) yield node, score\n",
    "                RETURN score, node.external_id AS id\n",
    "\n",
    "To get the model with the best fairness you can use the following query.\n",
    "\n",
    "match(n:ModelCard)-[]->(f:BiasAnalysis)\n",
    "with n, ABS(f.demographic_parity_diff) as dem, ABS(f.equal_odds_difference) as eq\n",
    "ORDER BY dem + eq ASC\n",
    "Limit 1\n",
    "Return n.external_id, dem, eq\n",
    "\n",
    "When calculating lowest values for demographic_parity_difference or equal_odds_difference, refer to the absolute value.\n",
    "\n",
    "If prompted about framework or license, refer to the corresponding AI_MODEL to get the information.\n",
    "\n",
    "if you can't find the answer or do not know the answer return \"it's not available in the database.\n",
    "ONLY RETURN THE CYPHER QUERY!\n",
    "\n",
    "The question is:\n",
    "{question}\"\"\"\n",
    "\n",
    "CYPHER_GENERATION_PROMPT = PromptTemplate(\n",
    "    input_variables=[\"schema\", \"question\"], template=CYPHER_GENERATION_TEMPLATE\n",
    ")\n"
   ],
   "metadata": {
    "collapsed": false,
    "pycharm": {
     "name": "#%%\n"
    }
   }
  },
  {
   "cell_type": "code",
   "execution_count": 115,
   "outputs": [],
   "source": [
    "QA_TEMPLATE = \"\"\"Task:Generate a response to the question only using the provided context.\n",
    "\n",
    "The context contains information retrieved from running a query corresponding to the question.\n",
    "Generate a text based answer to the question imitating a human answering. Limit the response to one sentence.\n",
    "\n",
    "The context is:\n",
    "{context}\n",
    "\n",
    "The question is:\n",
    "{question}\"\"\"\n",
    "\n",
    "QA_GEN_TEMPLATE = PromptTemplate(\n",
    "    input_variables=[\"context\", \"question\"], template=QA_TEMPLATE\n",
    ")\n"
   ],
   "metadata": {
    "collapsed": false,
    "pycharm": {
     "name": "#%%\n"
    }
   }
  },
  {
   "cell_type": "code",
   "source": [
    "neo4jQA = GraphCypherQAChain.from_llm(\n",
    "    llm=chat_gpt,\n",
    "    # cypher_llm=codellama13b,\n",
    "    # qa_llm=codellama13b,\n",
    "    graph=graph,\n",
    "    verbose=False,\n",
    "    cypher_prompt=CYPHER_GENERATION_PROMPT,\n",
    "    # qa_prompt=QA_GEN_TEMPLATE,\n",
    "    validate_cypher=True,\n",
    ")"
   ],
   "metadata": {
    "collapsed": false,
    "pycharm": {
     "name": "#%%\n"
    },
    "jupyter": {
     "is_executing": true
    }
   },
   "outputs": [],
   "execution_count": null
  },
  {
   "cell_type": "code",
   "execution_count": 120,
   "outputs": [
    {
     "name": "stdout",
     "output_type": "stream",
     "text": [
      "2000 models have been created using the UCI Adult Dataset.\n"
     ]
    }
   ],
   "source": [
    "result = neo4jQA.run(\"How many models have been created using the UCI Adult Dataset?\")\n",
    "print(result)"
   ],
   "metadata": {
    "collapsed": false,
    "pycharm": {
     "name": "#%%\n"
    }
   }
  },
  {
   "cell_type": "code",
   "execution_count": 107,
   "outputs": [
    {
     "name": "stdout",
     "output_type": "stream",
     "text": [
      "Question: 1\t:Who's the author of the model e835e0f3-3c13-4ab8-9b17-a8c5ea8dc788 ?\n",
      "\n",
      "\n",
      "\n",
      "\u001B[1m> Entering new GraphCypherQAChain chain...\u001B[0m\n",
      "Generated Cypher:\n",
      "\u001B[32;1m\u001B[1;3m\n",
      "MATCH (m:ModelCard {external_id: 'e835e0f3-3c13-4ab8-9b17-a8c5ea8dc788'})-[:AI_MODEL]->(ai:AIModel) RETURN ai.author AS author\u001B[0m\n",
      "Full Context:\n",
      "\u001B[32;1m\u001B[1;3m[{'author': None}]\u001B[0m\n",
      "\n",
      "\u001B[1m> Finished chain.\u001B[0m\n",
      " The author of the model e835e0f3-3c13-4ab8-9b17-a8c5ea8dc788 is not specified in the context.\n",
      "Question: 2\t:What's the framework used for the model e835e0f3-3c13-4ab8-9b17-a8c5ea8dc788 ?\n",
      "\n",
      "\n",
      "\n",
      "\u001B[1m> Entering new GraphCypherQAChain chain...\u001B[0m\n",
      "Generated Cypher:\n",
      "\u001B[32;1m\u001B[1;3m\n",
      "MATCH (m:ModelCard)-[:AI_MODEL]->(ai:AIModel)\n",
      "WHERE m.external_id = 'e835e0f3-3c13-4ab8-9b17-a8c5ea8dc788'\n",
      "RETURN ai.framework AS framework\u001B[0m\n",
      "Full Context:\n",
      "\u001B[32;1m\u001B[1;3m[{'framework': 'tensorflow'}]\u001B[0m\n",
      "\n",
      "\u001B[1m> Finished chain.\u001B[0m\n",
      " The framework used for the model e835e0f3-3c13-4ab8-9b17-a8c5ea8dc788 is TensorFlow.\n",
      "Question: 3\t:How many models have been created using the UCI Adult Dataset?\n",
      "\n",
      "\n",
      "\n",
      "\u001B[1m> Entering new GraphCypherQAChain chain...\u001B[0m\n",
      "Generated Cypher:\n",
      "\u001B[32;1m\u001B[1;3mMATCH (d:Datasheet {name:\"UCI Adult Dataset\"})<-[:TRAINED_ON]-(mc:ModelCard) RETURN count(distinct mc.external_id)\u001B[0m\n",
      "Full Context:\n",
      "\u001B[32;1m\u001B[1;3m[{'count(distinct mc.external_id)': 2000}]\u001B[0m\n",
      "\n",
      "\u001B[1m> Finished chain.\u001B[0m\n",
      "\n",
      "There are 2000 distinct models that have been created using the UCI Adult Dataset.\n",
      "Question: 4\t:Models trained on UCI Adult Dataset, how many have been deployed in chicago-03-city?\n",
      "\n",
      "\n",
      "\n",
      "\u001B[1m> Entering new GraphCypherQAChain chain...\u001B[0m\n",
      "Generated Cypher:\n",
      "\u001B[32;1m\u001B[1;3m\u001B[0m\n",
      "Full Context:\n",
      "\u001B[32;1m\u001B[1;3m[]\u001B[0m\n",
      "\n",
      "\u001B[1m> Finished chain.\u001B[0m\n",
      "According to the information retrieved from running a query corresponding to the question, models trained on the UCI Adult Dataset have not been deployed in Chicago-03-City.\n",
      "Question: 5\t:How many deployments have used UCI Adult Dataset as the training data?\n",
      "\n",
      "\n",
      "\n",
      "\u001B[1m> Entering new GraphCypherQAChain chain...\u001B[0m\n",
      "Generated Cypher:\n",
      "\u001B[32;1m\u001B[1;3m\u001B[0m\n",
      "Full Context:\n",
      "\u001B[32;1m\u001B[1;3m[]\u001B[0m\n",
      "\n",
      "\u001B[1m> Finished chain.\u001B[0m\n",
      "There are 10 deployments that have used UCI Adult Dataset as their training data.\n",
      "Question: 6\t:Of the models deployed on jetson-nano, how many are trained on UCI Adult Dataset?\n",
      "\n",
      "\n",
      "\n",
      "\u001B[1m> Entering new GraphCypherQAChain chain...\u001B[0m\n",
      "Generated Cypher:\n",
      "\u001B[32;1m\u001B[1;3m\u001B[0m\n",
      "Full Context:\n",
      "\u001B[32;1m\u001B[1;3m[]\u001B[0m\n",
      "\n",
      "\u001B[1m> Finished chain.\u001B[0m\n",
      "There are 3 models deployed on Jetson Nano that are trained on the UCI Adult Dataset.\n",
      "Question: 7\t:What's the average peak power wattage of deployments on raspberry-pi-3?\n",
      "\n",
      "\n",
      "\n",
      "\u001B[1m> Entering new GraphCypherQAChain chain...\u001B[0m\n",
      "Generated Cypher:\n",
      "\u001B[32;1m\u001B[1;3mMATCH (d:Deployment)-[:On_Device_Type]->(e:EdgeDevice)\n",
      "WHERE e.device_id = 'raspberry-pi-3'\n",
      "RETURN AVG(d.power_consumption_peak_watts)\u001B[0m\n",
      "Full Context:\n",
      "\u001B[32;1m\u001B[1;3m[{'AVG(d.power_consumption_peak_watts)': None}]\u001B[0m\n",
      "\n",
      "\u001B[1m> Finished chain.\u001B[0m\n",
      "\n",
      "There is no information available about the average peak power wattage of deployments on Raspberry Pi 3.\n",
      "Question: 8\t:What's the average requests served of all deployments on jetson-nano?\n",
      "\n",
      "\n",
      "\n",
      "\u001B[1m> Entering new GraphCypherQAChain chain...\u001B[0m\n",
      "Generated Cypher:\n",
      "\u001B[32;1m\u001B[1;3mMATCH (d:Deployment)-[:On_Device_Type]->(:EdgeDevice {device_id:\"jetson-nano\"})\n",
      "RETURN AVG(d.requests_served)\u001B[0m\n",
      "Full Context:\n",
      "\u001B[32;1m\u001B[1;3m[{'AVG(d.requests_served)': None}]\u001B[0m\n",
      "\n",
      "\u001B[1m> Finished chain.\u001B[0m\n",
      "The average requests served of all deployments on Jetson Nano is not available in the provided context.\n",
      "Question: 9\t:How many total models are in the database?\n",
      "\n",
      "\n",
      "\n",
      "\u001B[1m> Entering new GraphCypherQAChain chain...\u001B[0m\n",
      "Generated Cypher:\n",
      "\u001B[32;1m\u001B[1;3mMATCH (n:ModelCard)\n",
      "RETURN count(n) AS total_models\u001B[0m\n",
      "Full Context:\n",
      "\u001B[32;1m\u001B[1;3m[{'total_models': 2000}]\u001B[0m\n",
      "\n",
      "\u001B[1m> Finished chain.\u001B[0m\n",
      "\n",
      "There are 2000 total models in the database.\n",
      "Question: 10\t:How many device types are in the database?\n",
      "\n",
      "\n",
      "\n",
      "\u001B[1m> Entering new GraphCypherQAChain chain...\u001B[0m\n",
      "Generated Cypher:\n",
      "\u001B[32;1m\u001B[1;3mMATCH (d:EdgeDevice) RETURN d.device_id\u001B[0m\n",
      "Full Context:\n",
      "\u001B[32;1m\u001B[1;3m[{'d.device_id': None}, {'d.device_id': None}]\u001B[0m\n",
      "\n",
      "\u001B[1m> Finished chain.\u001B[0m\n",
      "There are 2 device types in the database.\n",
      "Question: 11\t:Which model has the best fairness?\n",
      "\n",
      "\n",
      "\n",
      "\u001B[1m> Entering new GraphCypherQAChain chain...\u001B[0m\n",
      "Generated Cypher:\n",
      "\u001B[32;1m\u001B[1;3mMATCH (n:ModelCard)-[]->(f:BiasAnalysis)\n",
      "WITH n, ABS(f.demographic_parity_diff) as dem, ABS(f.equal_odds_difference) as eq\n",
      "ORDER BY dem + eq ASC\n",
      "Limit 1\n",
      "Return n.external_id, dem, eq\u001B[0m\n",
      "Full Context:\n",
      "\u001B[32;1m\u001B[1;3m[{'n.external_id': 'a3145d3a-a16b-42f4-b823-c15905e44c9b', 'dem': 0.005243696939918108, 'eq': 0.004116978381464964}]\u001B[0m\n",
      "\n",
      "\u001B[1m> Finished chain.\u001B[0m\n",
      " The model with the best fairness is the one with the highest DEM (Demographic Parity and Equalized Odds) score, which is 0.005243696939918108 in this case.\n",
      "Question: 12\t:Which model has the lowest demographic parity trained on UCI Adult Dataset?\n",
      "\n",
      "\n",
      "\n",
      "\u001B[1m> Entering new GraphCypherQAChain chain...\u001B[0m\n",
      "Generated Cypher:\n",
      "\u001B[32;1m\u001B[1;3mMATCH (n:ModelCard)-[]->(f:BiasAnalysis)\n",
      "WHERE n.external_id = 'UCI Adult Dataset'\n",
      "WITH n, ABS(f.demographic_parity_diff) as dem, ABS(f.equal_odds_difference) as eq\n",
      "ORDER BY dem + eq ASC\n",
      "Limit 1\n",
      "Return n.external_id, dem, eq\u001B[0m\n",
      "Full Context:\n",
      "\u001B[32;1m\u001B[1;3m[]\u001B[0m\n",
      "\n",
      "\u001B[1m> Finished chain.\u001B[0m\n",
      "\n",
      "The model with the lowest demographic parity trained on the UCI Adult Dataset is the Random Forest Classifier.\n",
      "Question: 13\t:What are the explainability values of model 3075715e-bac0-4783-bff9-4d8ea6a5f638?\n",
      "\n",
      "\n",
      "\n",
      "\u001B[1m> Entering new GraphCypherQAChain chain...\u001B[0m\n",
      "Generated Cypher:\n",
      "\u001B[32;1m\u001B[1;3mMATCH (n:ModelCard)-[]->(f:ExplainabilityAnalysis)\n",
      "WHERE n.external_id = '3075715e-bac0-4783-bff9-4d8ea6a5f638'\n",
      "RETURN f.capital_loss, f.age\u001B[0m\n",
      "Full Context:\n",
      "\u001B[32;1m\u001B[1;3m[{'f.capital_loss': 0.0354, 'f.age': 0.0077}]\u001B[0m\n",
      "\n",
      "\u001B[1m> Finished chain.\u001B[0m\n",
      "\n",
      "The explainability values for model 3075715e-bac0-4783-bff9-4d8ea6a5f638 are:\n",
      "\n",
      "* f.capital_loss: 0.0354\n",
      "* f.age: 0.0077\n",
      "Question: 14\t:Which model has the best fairness deployed in sf-zone-02?\n",
      "\n",
      "\n",
      "\n",
      "\u001B[1m> Entering new GraphCypherQAChain chain...\u001B[0m\n",
      "Generated Cypher:\n",
      "\u001B[32;1m\u001B[1;3mMATCH (n:ModelCard)-[]->(f:BiasAnalysis)\n",
      "WHERE n.deployment_location = \"sf-zone-02\"\n",
      "WITH n, ABS(f.demographic_parity_diff) as dem, ABS(f.equal_odds_difference) as eq\n",
      "ORDER BY dem + eq ASC\n",
      "Limit 1\n",
      "Return n.external_id, dem, eq\u001B[0m\n",
      "Full Context:\n",
      "\u001B[32;1m\u001B[1;3m[]\u001B[0m\n",
      "\n",
      "\u001B[1m> Finished chain.\u001B[0m\n",
      " The Fairness 360 tool was used to evaluate the models' performance on the sf-zone-02 dataset and found that the model with the best fairness was the BERT model.\n",
      "Question: 15\t:Which top 3 models are similar to e835e0f3-3c13-4ab8-9b17-a8c5ea8dc788 ?\n",
      "\n",
      "\n",
      "\n",
      "\u001B[1m> Entering new GraphCypherQAChain chain...\u001B[0m\n",
      "Generated Cypher:\n",
      "\u001B[32;1m\u001B[1;3m\n",
      "MATCH (mc:ModelCard {external_id: \"e835e0f3-3c13-4ab8-9b17-a8c5ea8dc788\"})\n",
      "                WITH mc.embedding AS given_embedding\n",
      "                CALL db.index.vector.queryNodes('embedding', 3, given_embedding) yield node, score\n",
      "                RETURN score, node.external_id AS id\u001B[0m\n",
      "Full Context:\n",
      "\u001B[32;1m\u001B[1;3m[{'score': 1.0, 'id': 'e835e0f3-3c13-4ab8-9b17-a8c5ea8dc788'}, {'score': 0.5984518527984619, 'id': '3075715e-bac0-4783-bff9-4d8ea6a5f638'}, {'score': 0.5936095714569092, 'id': '24c54077-675f-4812-82f5-b1157dfa81d5'}]\u001B[0m\n",
      "\n",
      "\u001B[1m> Finished chain.\u001B[0m\n",
      "\n",
      "The top 3 models that are similar to e835e0f3-3c13-4ab8-9b17-a8c5ea8dc788 are:\n",
      "\n",
      "* 3075715e-bac0-4783-bff9-4d8ea6a5f638 (score: 0.5984518527984619)\n",
      "* 24c54077-675f-4812-8\n",
      "Question: 16\t:What are the 5 closest models to e835e0f3-3c13-4ab8-9b17-a8c5ea8dc788 ?\n",
      "\n",
      "\n",
      "\n",
      "\u001B[1m> Entering new GraphCypherQAChain chain...\u001B[0m\n",
      "Generated Cypher:\n",
      "\u001B[32;1m\u001B[1;3m\n",
      "MATCH (mc:ModelCard {external_id: \"e835e0f3-3c13-4ab8-9b17-a8c5ea8dc788\"})\n",
      "WITH mc.embedding AS given_embedding\n",
      "CALL db.index.vector.queryNodes('embedding', 5, given_embedding) yield node, score\n",
      "RETURN score, node.external_id AS id\u001B[0m\n",
      "Full Context:\n",
      "\u001B[32;1m\u001B[1;3m[{'score': 1.0, 'id': 'e835e0f3-3c13-4ab8-9b17-a8c5ea8dc788'}, {'score': 0.5984518527984619, 'id': '3075715e-bac0-4783-bff9-4d8ea6a5f638'}, {'score': 0.5936095714569092, 'id': '24c54077-675f-4812-82f5-b1157dfa81d5'}, {'score': 0.5864496827125549, 'id': 'c9a29fef-b505-4309-880e-72bf8ac3539c'}, {'score': 0.5864255428314209, 'id': 'b000271e-cafb-4b3e-bd01-00f78319f40d'}]\u001B[0m\n",
      "\n",
      "\u001B[1m> Finished chain.\u001B[0m\n",
      " The 5 closest models to e835e0f3-3c13-4ab8-9b17-a8c5ea8dc788 are:\n",
      "\n",
      "* 3075715e-bac0-4783-bff9-4d8ea6a5f638 (score: 0.5984518527984619)\n",
      "* 24c54077-675f-4812-82f5-\n",
      "Question: 17\t:Which model has the highest deployment accuracy on jetson-nano?\n",
      "\n",
      "\n",
      "\n",
      "\u001B[1m> Entering new GraphCypherQAChain chain...\u001B[0m\n",
      "Generated Cypher:\n",
      "\u001B[32;1m\u001B[1;3mMATCH (d:EdgeDevice {name:\"jetson-nano\"})<-[:On_Device_Type]-(dep:Deployment)<-[:Deployed_On]-(mc:ModelCard)-[:AI_MODEL]->(ai:AIModel)\n",
      "WITH dep.mean_accuracy AS accuracy, mc.external_id AS id\n",
      "ORDER BY accuracy DESC\n",
      "LIMIT 1\n",
      "RETURN id, accuracy\u001B[0m\n",
      "Full Context:\n",
      "\u001B[32;1m\u001B[1;3m[{'id': 'e835e0f3-3c13-4ab8-9b17-a8c5ea8dc788', 'accuracy': 0.9994328592437394}]\u001B[0m\n",
      "\n",
      "\u001B[1m> Finished chain.\u001B[0m\n",
      " The model with the highest deployment accuracy on Jetson Nano is e835e0f3-3c13-4ab8-9b17-a8c5ea8dc788, with an accuracy of 0.9994328592437394.\n",
      "Question: 18\t:Which model trained on the UCI Adult Dataset has the lowest power consumption average on raspberry-pi-3?\n",
      "\n",
      "\n",
      "\n",
      "\u001B[1m> Entering new GraphCypherQAChain chain...\u001B[0m\n",
      "Generated Cypher:\n",
      "\u001B[32;1m\u001B[1;3mMATCH (d:EdgeDevice {device_id:\"raspberry-pi-3\"})<-[:On_Device_Type]-(dep:Deployment)<-[:Deployed_On]-(mc:ModelCard)-[:TRAINED_ON]->(ds:Datasheet {name:\"UCI Adult Dataset\"})\n",
      "WITH dep.power_consumption_average_watts AS power_avg, mc.external_id AS model_id\n",
      "ORDER BY power_avg ASC\n",
      "LIMIT 1\n",
      "RETURN model_id\u001B[0m\n",
      "Full Context:\n",
      "\u001B[32;1m\u001B[1;3m[]\u001B[0m\n",
      "\n",
      "\u001B[1m> Finished chain.\u001B[0m\n",
      "The model \"MobileNetV2\" trained on the UCI Adult Dataset has the lowest power consumption average on Raspberry Pi 3.\n",
      "Question: 19\t:Which unique devices has been used at sf-zone-22?\n",
      "\n",
      "\n",
      "\n",
      "\u001B[1m> Entering new GraphCypherQAChain chain...\u001B[0m\n",
      "Generated Cypher:\n",
      "\u001B[32;1m\u001B[1;3m\u001B[0m\n",
      "Full Context:\n",
      "\u001B[32;1m\u001B[1;3m[]\u001B[0m\n",
      "\n",
      "\u001B[1m> Finished chain.\u001B[0m\n",
      "Based on the information provided, it appears that the only unique device used at SF-Zone-22 was a \"C-100\" device.\n",
      "Question: 20\t:In how many distinct locations have models trained on the UCI Adult Dataset been deployed?\n",
      "\n",
      "\n",
      "\u001B[1m> Entering new GraphCypherQAChain chain...\u001B[0m\n",
      "Generated Cypher:\n",
      "\u001B[32;1m\u001B[1;3m\n",
      "MATCH (mc:ModelCard)-[:TRAINED_ON]->(ds:Datasheet) WHERE ds.name = \"UCI Adult Dataset\"\n",
      "WITH mc, COUNT(DISTINCT mc.deployment_location) AS num_locations\n",
      "RETURN num_locations\u001B[0m\n",
      "Full Context:\n",
      "\u001B[32;1m\u001B[1;3m[{'num_locations': 0}, {'num_locations': 0}, {'num_locations': 0}, {'num_locations': 0}, {'num_locations': 0}, {'num_locations': 0}, {'num_locations': 0}, {'num_locations': 0}, {'num_locations': 0}, {'num_locations': 0}]\u001B[0m\n",
      "\n",
      "\u001B[1m> Finished chain.\u001B[0m\n",
      "There are no locations where models trained on the UCI Adult Dataset have been deployed.\n",
      "134.0277896285057\n"
     ]
    }
   ],
   "source": [
    "# evaluation\n",
    "import time\n",
    "\n",
    "results = []\n",
    "times = []\n",
    "i = 1\n",
    "with open(\"/Users/swithana/git/ai-model-cards/llm/evaluation/questions.txt\", \"r\") as file:\n",
    "    for line in file:\n",
    "        print(\"Question: {}\\t:{}\".format(i, line))\n",
    "        i = i+1\n",
    "        try:\n",
    "            query_time = time.time()\n",
    "            result = neo4jQA.run(line)\n",
    "            query_total_time = time.time() - query_time\n",
    "            times.append(query_total_time)\n",
    "            print(result)\n",
    "        except Exception as e:\n",
    "            results.append(\"ERROR\")\n",
    "            print(\"ERROR\")\n",
    "            continue\n",
    "        # results.append(result['result'])\n",
    "        results.append(result)\n",
    "\n",
    "print(np.average(times))\n",
    "with open(\"/Users/swithana/git/ai-model-cards/llm/evaluation/codellama13b-low-temp.txt\", \"w\") as file:\n",
    "        # Iterate through each line in the list\n",
    "        for line in results:\n",
    "            # Write the line to the file\n",
    "            file.write(line + \"\\n\")\n",
    "        file.write(\"Time per query: {}\".format(times))"
   ],
   "metadata": {
    "collapsed": false,
    "pycharm": {
     "name": "#%%\n"
    }
   }
  },
  {
   "cell_type": "code",
   "execution_count": 15,
   "outputs": [],
   "source": [
    "template = \"\"\"Your job is to answer the question below.\n",
    "{question}\n",
    "\"\"\"\n",
    "prompt_template = PromptTemplate(input_variables=[\"question\"], template=template)\n",
    "\n",
    "llm_chain = LLMChain(\n",
    "    llm=chat_gpt,\n",
    "    prompt=prompt_template,\n",
    "    verbose=True,\n",
    ")\n"
   ],
   "metadata": {
    "collapsed": false,
    "pycharm": {
     "name": "#%%\n"
    }
   }
  },
  {
   "cell_type": "code",
   "execution_count": 16,
   "outputs": [],
   "source": [
    "scholar_tool = GoogleScholarQueryRun(api_wrapper=GoogleScholarAPIWrapper(serp_api_key=ser_api_key))"
   ],
   "metadata": {
    "collapsed": false,
    "pycharm": {
     "name": "#%%\n"
    }
   }
  },
  {
   "cell_type": "code",
   "execution_count": 17,
   "outputs": [
    {
     "name": "stderr",
     "output_type": "stream",
     "text": [
      "/Users/swithana/git/icicle_model_card/venv/lib/python3.9/site-packages/langchain_core/_api/deprecation.py:117: LangChainDeprecationWarning: The function `initialize_agent` was deprecated in LangChain 0.1.0 and will be removed in 0.2.0. Use Use new agent constructor methods like create_react_agent, create_json_agent, create_structured_chat_agent, etc. instead.\n",
      "  warn_deprecated(\n"
     ]
    }
   ],
   "source": [
    "tools = [\n",
    "    Tool(\n",
    "        name=\"llm\",\n",
    "        description=\"Use this as the last resort if none of the other tools provide an output.\",\n",
    "        func=llm_chain.run,\n",
    "    ),\n",
    "    Tool(\n",
    "        name = 'ICICLE_MC',\n",
    "        func = neo4jQA.invoke,\n",
    "        description = ( 'Use this to query about models, datasheet, deployment and their analysis. This is also referred to as ICICLE database, database, knowledge graph. If the query has a prefix IMC, parse the original query as is to this tool and return the result. Dont use any other tool after. DO NOT ALLOW DELETE, INSERT, UPDATE. say you are contacting administrator in that case. '\n",
    "        )\n",
    "    ),\n",
    "    Tool(\n",
    "        name=\"google_scholar\",\n",
    "        description=\"Use this to search google scholar for research citations, papers, research papers results. If the prefix for query is GS: only run it using this tool. Don't run any subsequent tools\",\n",
    "        func=scholar_tool.run,\n",
    "    )\n",
    "]\n",
    "\n",
    "memory = ConversationBufferWindowMemory(k=2)\n",
    "\n",
    "agent = initialize_agent(\n",
    "    tools=tools,\n",
    "    llm=openai,\n",
    "    verbose=True,\n",
    "    memory=memory\n",
    ")"
   ],
   "metadata": {
    "collapsed": false,
    "pycharm": {
     "name": "#%%\n"
    }
   }
  },
  {
   "cell_type": "code",
   "execution_count": 18,
   "outputs": [
    {
     "name": "stderr",
     "output_type": "stream",
     "text": [
      "/Users/swithana/git/icicle_model_card/venv/lib/python3.9/site-packages/langchain_core/_api/deprecation.py:117: LangChainDeprecationWarning: The function `__call__` was deprecated in LangChain 0.1.0 and will be removed in 0.2.0. Use invoke instead.\n",
      "  warn_deprecated(\n"
     ]
    },
    {
     "name": "stdout",
     "output_type": "stream",
     "text": [
      "\n",
      "\n",
      "\u001B[1m> Entering new AgentExecutor chain...\u001B[0m\n",
      "\u001B[32;1m\u001B[1;3m I should use ICICLE_MC to query about the project.\n",
      "Action: ICICLE_MC\n",
      "Action Input: What is the ICICLE project?\u001B[0m\n",
      "\n",
      "\u001B[1m> Entering new GraphCypherQAChain chain...\u001B[0m\n",
      "Generated Cypher:\n",
      "\u001B[32;1m\u001B[1;3mMATCH (m:ModelCard) WHERE m.name = 'ICICLE project' RETURN m.short_description, m.full_description, m.author, m.categories, m.keywords, m.input_type, m.input_data, m.output_data, m.version, m.external_id\u001B[0m\n",
      "Full Context:\n",
      "\u001B[32;1m\u001B[1;3m[]\u001B[0m\n",
      "\n",
      "\u001B[1m> Finished chain.\u001B[0m\n",
      "\n",
      "Observation: \u001B[33;1m\u001B[1;3m{'query': 'What is the ICICLE project?', 'result': \"I'm sorry, but I don't have the information to answer that question.\"}\u001B[0m\n",
      "Thought:\u001B[32;1m\u001B[1;3m I should try using google_scholar to search for information about the ICICLE project.\n",
      "Action: google_scholar\n",
      "Action Input: ICICLE project\u001B[0m\n",
      "Observation: \u001B[38;5;200m\u001B[1;3mTitle: ICICLE: Groupware for code inspection\n",
      "Authors: M Muller\n",
      "Summary: L Brothers, V Sembugamoorthy, M Muller - Proceedings of the 1990 …, 1990 - dl.acm.org\n",
      "Total-Citations: 191\n",
      "\n",
      "Title: ICICLE: Intelligent code inspection in a C language environment\n",
      "Authors: \n",
      "Summary: V Sembugamoorthy, L Brothers - Proceedings Fourteenth Annual …, 1990 - computer.org\n",
      "Total-Citations: 27\n",
      "\n",
      "Title: Sign language recognition and translation: A multidisciplined approach from the field of artificial intelligence\n",
      "Authors: \n",
      "Summary: BS Parton - Journal of deaf studies and deaf education, 2006 - academic.oup.com\n",
      "Total-Citations: 125\n",
      "\n",
      "Title: Development of Authenticated Clients and Applications for ICICLE CI Services--Final Report for the REHS Program, June-August, 2022\n",
      "Authors: \n",
      "Summary: S Samar, M Chen, J Karpinski, M Ray, A Sarin… - arXiv preprint arXiv …, 2023 - arxiv.org\n",
      "Total-Citations: \n",
      "\n",
      "Title: Capturing the evolution of grammatical knowledge in a CALL system for deaf learners of English\n",
      "Authors: KF McCoy\n",
      "Summary: LN Michaud, KF McCoy - International Journal of Artificial …, 2006 - content.iospress.com\n",
      "Total-Citations: 26\n",
      "\n",
      "Title: S erum immune markers and disease progression in an incident P arkinson's disease cohort (ICICLE‐PD)\n",
      "Authors: RA Barker\n",
      "Summary: …, RA Barker, ICICLE‐PD study group - Movement …, 2016 - Wiley Online Library\n",
      "Total-Citations: 252\n",
      "\n",
      "Title: Icicle Creek boulder field fish passage assessment\n",
      "Authors: \n",
      "Summary: L Dominguez, P Powers, ES Toth… - … Water Project …, 2013 - researchgate.net\n",
      "Total-Citations: 3\n",
      "\n",
      "Title: Exploring Dimensions of AI Democratization through a Need/Supply Case Study\n",
      "Authors: \n",
      "Summary: A Hingle - 2024 - icicle.osu.edu\n",
      "Total-Citations: \n",
      "\n",
      "Title: ICICLE Educational Fellowship Final Report: Democratizing AI through Stakeholder Participation1\n",
      "Authors: \n",
      "Summary: TE Feiten, C Lucken - icicle.osu.edu\n",
      "Total-Citations: \n",
      "\n",
      "Title: Asymmetric Visual Hierarchy Comparison with Nested Icicle Plots.\n",
      "Authors: F Beck,M Burch,S Diehl\n",
      "Summary: F Beck, FJ Wiszniewsky, M Burch, S Diehl… - ED/GViP …, 2014 - Citeseer\n",
      "Total-Citations: 23\u001B[0m\n",
      "Thought:\u001B[32;1m\u001B[1;3m I now know the final answer.\n",
      "Final Answer: The ICICLE project is a groupware for code inspection that was developed in the 1990s. It has been cited in various research papers and has a total of 191 citations on Google Scholar.\u001B[0m\n",
      "\n",
      "\u001B[1m> Finished chain.\u001B[0m\n"
     ]
    },
    {
     "data": {
      "text/plain": "{'input': 'What is the ICICLE project?',\n 'history': '',\n 'output': 'The ICICLE project is a groupware for code inspection that was developed in the 1990s. It has been cited in various research papers and has a total of 191 citations on Google Scholar.'}"
     },
     "execution_count": 18,
     "metadata": {},
     "output_type": "execute_result"
    }
   ],
   "source": [
    "query=\"What is the ICICLE project?\"\n",
    "agent(query)"
   ],
   "metadata": {
    "collapsed": false,
    "pycharm": {
     "name": "#%%\n"
    }
   }
  },
  {
   "cell_type": "code",
   "execution_count": 19,
   "outputs": [
    {
     "name": "stdout",
     "output_type": "stream",
     "text": [
      "\n",
      "\n",
      "\u001B[1m> Entering new AgentExecutor chain...\u001B[0m\n",
      "\u001B[32;1m\u001B[1;3m I should use ICICLE_MC to query the models trained on the UCI Adult Dataset.\n",
      "Action: ICICLE_MC\n",
      "Action Input: \"How many models were trained on the UCI Adult Dataset?\"\u001B[0m\n",
      "\n",
      "\u001B[1m> Entering new GraphCypherQAChain chain...\u001B[0m\n",
      "Generated Cypher:\n",
      "\u001B[32;1m\u001B[1;3mMATCH (m:ModelCard)-[:TRAINED_ON]->(d:Datasheet)\n",
      "WHERE d.name = \"UCI Adult Dataset\"\n",
      "RETURN COUNT(m) as ModelsCount\u001B[0m\n",
      "Full Context:\n",
      "\u001B[32;1m\u001B[1;3m[{'ModelsCount': 103}]\u001B[0m\n",
      "\n",
      "\u001B[1m> Finished chain.\u001B[0m\n",
      "\n",
      "Observation: \u001B[33;1m\u001B[1;3m{'query': 'How many models were trained on the UCI Adult Dataset?', 'result': '103 models were trained on the UCI Adult Dataset.'}\u001B[0m\n",
      "Thought:\u001B[32;1m\u001B[1;3m I now know the final answer\n",
      "Final Answer: 103 models were trained on the UCI Adult Dataset.\u001B[0m\n",
      "\n",
      "\u001B[1m> Finished chain.\u001B[0m\n"
     ]
    },
    {
     "data": {
      "text/plain": "{'input': 'How many models were trained on the UCI Adult Dataset?',\n 'history': 'Human: What is the ICICLE project?\\nAI: The ICICLE project is a groupware for code inspection that was developed in the 1990s. It has been cited in various research papers and has a total of 191 citations on Google Scholar.',\n 'output': '103 models were trained on the UCI Adult Dataset.'}"
     },
     "execution_count": 19,
     "metadata": {},
     "output_type": "execute_result"
    }
   ],
   "source": [
    "query=\"How many models were trained on the UCI Adult Dataset?\"\n",
    "agent(query)"
   ],
   "metadata": {
    "collapsed": false,
    "pycharm": {
     "name": "#%%\n"
    }
   }
  },
  {
   "cell_type": "code",
   "execution_count": 20,
   "outputs": [
    {
     "name": "stdout",
     "output_type": "stream",
     "text": [
      "\n",
      "\n",
      "\u001B[1m> Entering new AgentExecutor chain...\u001B[0m\n",
      "\u001B[32;1m\u001B[1;3m I should use google scholar to search for the paper and then use ICICLE_MC to query the database for the number of citations.\n",
      "Action: google_scholar\n",
      "Action Input: \"GS: Model cards for model reporting\"\u001B[0m\n",
      "Observation: \u001B[38;5;200m\u001B[1;3mTitle: Model cards for model reporting\n",
      "Authors: M Mitchell,A Zaldivar\n",
      "Summary: M Mitchell, S Wu, A Zaldivar, P Barnes… - Proceedings of the …, 2019 - dl.acm.org\n",
      "Total-Citations: 1621\n",
      "\n",
      "Title: Low adherence to existing model reporting guidelines by commonly used clinical prediction models\n",
      "Authors: A Callahan,BS Patel,KE Morse,D Dash\n",
      "Summary: JH Lu, A Callahan, BS Patel, KE Morse, D Dash… - MedRXiv, 2021 - medrxiv.org\n",
      "Total-Citations: 9\n",
      "\n",
      "Title: Transparent Reporting of a multivariable prediction model for Individual Prognosis or Diagnosis (TRIPOD): explanation and elaboration\n",
      "Authors: AJ Vickers,GS Collins\n",
      "Summary: …, AJ Vickers, DF Ransohoff, GS Collins - Annals of internal …, 2015 - acpjournals.org\n",
      "Total-Citations: 3724\n",
      "\n",
      "Title: Is more information better? The effects of “report cards” on health care providers\n",
      "Authors: D Dranove,D Kessler\n",
      "Summary: D Dranove, D Kessler, M McClellan… - Journal of political …, 2003 - journals.uchicago.edu\n",
      "Total-Citations: 947\n",
      "\n",
      "Title: The tennessee men's health report card: a model for men's health policy advocacy and education\n",
      "Authors: DM Griffith\n",
      "Summary: DM Griffith, AR Semlow, M Leventhal… - American Journal of …, 2019 - journals.sagepub.com\n",
      "Total-Citations: 7\n",
      "\n",
      "Title: How to conduct rigorous supervised machine learning in information systems research: the supervised machine learning report card\n",
      "Authors: L Baier,B Schmitz,G Satzger\n",
      "Summary: …, R Hirt, L Baier, B Schmitz, G Satzger - Communications of the …, 2021 - aisel.aisnet.org\n",
      "Total-Citations: 36\n",
      "\n",
      "Title: Residents' self‐report on why they order perceived unnecessary inpatient laboratory tests\n",
      "Authors: MS Sedrak,MS Patel,JB Ziemba\n",
      "Summary: MS Sedrak, MS Patel, JB Ziemba… - Journal of hospital …, 2016 - Wiley Online Library\n",
      "Total-Citations: 97\n",
      "\n",
      "Title: Comparison of clinical and administrative data sources for hospital coronary artery bypass graft surgery report cards\n",
      "Authors: \n",
      "Summary: DM Shahian, T Silverstein, AF Lovett, RE Wolf… - Circulation, 2007 - Am Heart Assoc\n",
      "Total-Citations: 218\n",
      "\n",
      "Title: Rationality Report Cards: Assessing the Economic Rationality of Large Language Models\n",
      "Authors: N Raman,T Lundy,S Amouyal,Y Levine\n",
      "Summary: N Raman, T Lundy, S Amouyal, Y Levine… - arXiv preprint arXiv …, 2024 - arxiv.org\n",
      "Total-Citations: \n",
      "\n",
      "Title: Assessment of adherence to reporting guidelines by commonly used clinical prediction models from a single vendor: a systematic review\n",
      "Authors: A Callahan,BS Patel,KE Morse\n",
      "Summary: JH Lu, A Callahan, BS Patel, KE Morse… - JAMA Network …, 2022 - jamanetwork.com\n",
      "Total-Citations: 15\u001B[0m\n",
      "Thought:\u001B[32;1m\u001B[1;3m I now know the final answer\n",
      "Final Answer: The Model cards for model reporting paper has a total of 1621 citations.\u001B[0m\n",
      "\n",
      "\u001B[1m> Finished chain.\u001B[0m\n"
     ]
    },
    {
     "data": {
      "text/plain": "{'input': 'How many citations does the Model cards for model reporting paper have?',\n 'history': 'Human: What is the ICICLE project?\\nAI: The ICICLE project is a groupware for code inspection that was developed in the 1990s. It has been cited in various research papers and has a total of 191 citations on Google Scholar.\\nHuman: How many models were trained on the UCI Adult Dataset?\\nAI: 103 models were trained on the UCI Adult Dataset.',\n 'output': 'The Model cards for model reporting paper has a total of 1621 citations.'}"
     },
     "execution_count": 20,
     "metadata": {},
     "output_type": "execute_result"
    }
   ],
   "source": [
    "query=\"How many citations does the Model cards for model reporting paper have?\"\n",
    "agent(query)"
   ],
   "metadata": {
    "collapsed": false,
    "pycharm": {
     "name": "#%%\n"
    }
   }
  },
  {
   "cell_type": "code",
   "execution_count": 21,
   "outputs": [
    {
     "name": "stdout",
     "output_type": "stream",
     "text": [
      "\n",
      "\n",
      "\u001B[1m> Entering new AgentExecutor chain...\u001B[0m\n",
      "\u001B[32;1m\u001B[1;3m I should use ICICLE_MC to query the database for the model with the highest deployment mean accuracy on the jetson-nano device.\n",
      "Action: ICICLE_MC\n",
      "Action Input: Which model in database that were trained on the UCI Adult Dataset, has the highest deployment mean accuracy on jetson-nano device?\u001B[0m\n",
      "\n",
      "\u001B[1m> Entering new GraphCypherQAChain chain...\u001B[0m\n",
      "Generated Cypher:\n",
      "\u001B[32;1m\u001B[1;3mMATCH (m:ModelCard)-[:TRAINED_ON]->(d:Datasheet), (m)-[:Deployed_On]->(dep:Deployment), (dep)-[:On_Device_Type]->(ed:EdgeDevice)\n",
      "WHERE d.name = \"UCI Adult Dataset\" AND ed.name = \"jetson-nano\"\n",
      "RETURN m.name AS Model, dep.mean_accuracy AS Mean_Accuracy\n",
      "ORDER BY dep.mean_accuracy DESC\n",
      "LIMIT 1\u001B[0m\n",
      "Full Context:\n",
      "\u001B[32;1m\u001B[1;3m[{'Model': 'UCI Adult Data Analysis', 'Mean_Accuracy': 0.9707495907289033}]\u001B[0m\n",
      "\n",
      "\u001B[1m> Finished chain.\u001B[0m\n",
      "\n",
      "Observation: \u001B[33;1m\u001B[1;3m{'query': 'Which model in database that were trained on the UCI Adult Dataset, has the highest deployment mean accuracy on jetson-nano device?', 'result': 'The model that was trained on the UCI Adult Dataset and has the highest deployment mean accuracy on the jetson-nano device is the UCI Adult Data Analysis model with a mean accuracy of 0.9707495907289033.'}\u001B[0m\n",
      "Thought:\u001B[32;1m\u001B[1;3m I now know the final answer\n",
      "Final Answer: The UCI Adult Data Analysis model has the highest deployment mean accuracy on the jetson-nano device.\u001B[0m\n",
      "\n",
      "\u001B[1m> Finished chain.\u001B[0m\n"
     ]
    },
    {
     "data": {
      "text/plain": "{'input': 'IMC: Which model in database that were trained on the UCI Adult Dataset, has the highest deployment mean accuracy on jetson-nano device?',\n 'history': 'Human: How many models were trained on the UCI Adult Dataset?\\nAI: 103 models were trained on the UCI Adult Dataset.\\nHuman: How many citations does the Model cards for model reporting paper have?\\nAI: The Model cards for model reporting paper has a total of 1621 citations.',\n 'output': 'The UCI Adult Data Analysis model has the highest deployment mean accuracy on the jetson-nano device.'}"
     },
     "execution_count": 21,
     "metadata": {},
     "output_type": "execute_result"
    }
   ],
   "source": [
    "query=\"IMC: Which model in database that were trained on the UCI Adult Dataset, has the highest deployment mean accuracy on jetson-nano device?\"\n",
    "agent(query)"
   ],
   "metadata": {
    "collapsed": false,
    "pycharm": {
     "name": "#%%\n"
    }
   }
  },
  {
   "cell_type": "code",
   "execution_count": 22,
   "outputs": [
    {
     "name": "stdout",
     "output_type": "stream",
     "text": [
      "\n",
      "\n",
      "\u001B[1m> Entering new AgentExecutor chain...\u001B[0m\n",
      "\u001B[32;1m\u001B[1;3m I should use google scholar to search for papers related to the UCI Adult Dataset.\n",
      "Action: google_scholar\n",
      "Action Input: \"GS: UCI Adult Dataset\"\u001B[0m\n",
      "Observation: \u001B[38;5;200m\u001B[1;3mTitle: Mitigating unwanted biases with adversarial learning\n",
      "Authors: BH Zhang,M Mitchell\n",
      "Summary: BH Zhang, B Lemoine, M Mitchell - Proceedings of the 2018 AAAI/ACM …, 2018 - dl.acm.org\n",
      "Total-Citations: 1330\n",
      "\n",
      "Title: Activeclean: Interactive data cleaning for statistical modeling\n",
      "Authors: S Krishnan,J Wang,E Wu,MJ Franklin\n",
      "Summary: S Krishnan, J Wang, E Wu, MJ Franklin… - Proceedings of the …, 2016 - dl.acm.org\n",
      "Total-Citations: 281\n",
      "\n",
      "Title: Improved autistic spectrum disorder estimation using Cfs subset with greedy stepwise feature selection technique\n",
      "Authors: M Sharma\n",
      "Summary: M Sharma - International Journal of Information Technology, 2022 - Springer\n",
      "Total-Citations: 21\n",
      "\n",
      "Title: Activeclean: Interactive data cleaning while learning convex loss models\n",
      "Authors: S Krishnan,J Wang,E Wu,MJ Franklin\n",
      "Summary: S Krishnan, J Wang, E Wu, MJ Franklin… - arXiv preprint arXiv …, 2016 - arxiv.org\n",
      "Total-Citations: 41\n",
      "\n",
      "Title: Controllable guarantees for fair outcomes via contrastive information estimation\n",
      "Authors: AM Ferber,B Dilkina,G Ver Steeg\n",
      "Summary: …, AM Ferber, B Dilkina, G Ver Steeg - Proceedings of the AAAI …, 2021 - ojs.aaai.org\n",
      "Total-Citations: 32\n",
      "\n",
      "Title: Decomposition+: improving ℓ-diversity for multiple sensitive attributes\n",
      "Authors: DK Bhattacharyya\n",
      "Summary: D Das, DK Bhattacharyya - … , CCSIT 2012, Bangalore, India, January 2-4 …, 2012 - Springer\n",
      "Total-Citations: 38\n",
      "\n",
      "Title: Classification Models for Autism Spectrum Disorder\n",
      "Authors: VPC Magboo,MSA Magboo\n",
      "Summary: VPC Magboo, MSA Magboo - … on Artificial Intelligence and Data Science, 2021 - Springer\n",
      "Total-Citations: 3\n",
      "\n",
      "Title: Deep stochastic logic gate networks\n",
      "Authors: \n",
      "Summary: Y Kim - IEEE Access, 2023 - ieeexplore.ieee.org\n",
      "Total-Citations: \n",
      "\n",
      "Title: Discovery of unapparent association rules based on extracted probability\n",
      "Authors: \n",
      "Summary: CW Liao, YH Perng, TL Chiang - Decision Support Systems, 2009 - Elsevier\n",
      "Total-Citations: 36\n",
      "\n",
      "Title: Securing private information by data perturbation using statistical transformation with three dimensional shearing\n",
      "Authors: GS Kumar,K Premalatha\n",
      "Summary: GS Kumar, K Premalatha - Applied Soft Computing, 2021 - Elsevier\n",
      "Total-Citations: 10\u001B[0m\n",
      "Thought:\u001B[32;1m\u001B[1;3m I should compare the total citations for each paper and determine which one has the highest amount.\n",
      "Action: llm\n",
      "Action Input: \"1330, 281, 21, 41, 32, 38, 3, 36, 10\"\u001B[0m\n",
      "\n",
      "\u001B[1m> Entering new LLMChain chain...\u001B[0m\n",
      "Prompt after formatting:\n",
      "\u001B[32;1m\u001B[1;3mYour job is to answer the question below.\n",
      "1330, 281, 21, 41, 32, 38, 3, 36, 10\n",
      "\u001B[0m\n",
      "\n",
      "\u001B[1m> Finished chain.\u001B[0m\n",
      "\n",
      "Observation: \u001B[36;1m\u001B[1;3mThe question is not specified. Please provide more details.\u001B[0m\n",
      "Thought:\u001B[32;1m\u001B[1;3m I should use ICICLE_MC to query about the models, datasheet, deployment, and analysis of the UCI Adult Dataset.\n",
      "Action: ICICLE_MC\n",
      "Action Input: \"IMC: UCI Adult Dataset\"\u001B[0m\n",
      "\n",
      "\u001B[1m> Entering new GraphCypherQAChain chain...\u001B[0m\n",
      "Generated Cypher:\n",
      "\u001B[32;1m\u001B[1;3mMATCH (d:Datasheet)\n",
      "WHERE d.name = \"UCI Adult Dataset\"\n",
      "RETURN d\u001B[0m\n",
      "Full Context:\n",
      "\u001B[32;1m\u001B[1;3m[{'d': {'subject_area': 'social_science', 'Associated_tasks': 'classification', 'datapoints': 48842, 'description': \"This dataset contains census data collected by the U.S. Census Bureau. It is used to predict whether a person's income is above or below the $50k threshold.\", 'external_id': 'https://archive.ics.uci.edu/dataset/2/adult', 'source': 'UCI Machine Learning Repository', 'version': '1', 'missing_values': True, 'license': 'CC BY 4.0', 'attribute_types': 'categorical, integer', 'Dataset_characteristics': 'Multivariate', 'name': 'UCI Adult Dataset', 'download_url': 'https://archive.ics.uci.edu/dataset/2/adult', 'target_variable': 'Income', 'categories': '<=50K, >50K', 'doi': '10.24432/C5XW20'}}]\u001B[0m\n",
      "\n",
      "\u001B[1m> Finished chain.\u001B[0m\n",
      "\n",
      "Observation: \u001B[33;1m\u001B[1;3m{'query': 'IMC: UCI Adult Dataset', 'result': \"The UCI Adult Dataset is a multivariate dataset from the UCI Machine Learning Repository. It contains census data collected by the U.S. Census Bureau, with 48842 datapoints. The dataset is used for classification tasks in the subject area of social science, specifically to predict whether a person's income is above or below the $50k threshold. The target variable is 'Income' with categories '<=50K, >50K'. The dataset, which contains both categorical and integer attribute types, does have missing values. It's licensed under CC BY 4.0. You can access it via this [link](https://archive.ics.uci.edu/dataset/2/adult).\"}\u001B[0m\n",
      "Thought:\u001B[32;1m\u001B[1;3m I now know the final answer.\n",
      "Final Answer: The paper with the highest amount of citations citing the UCI Adult Dataset is \"Mitigating unwanted biases with adversarial learning\" by BH Zhang and M Mitchell with a total of 1330 citations.\u001B[0m\n",
      "\n",
      "\u001B[1m> Finished chain.\u001B[0m\n"
     ]
    },
    {
     "data": {
      "text/plain": "{'input': 'Which paper has the highest amount of citations citing the UCI Adult Dataset?',\n 'history': 'Human: How many citations does the Model cards for model reporting paper have?\\nAI: The Model cards for model reporting paper has a total of 1621 citations.\\nHuman: IMC: Which model in database that were trained on the UCI Adult Dataset, has the highest deployment mean accuracy on jetson-nano device?\\nAI: The UCI Adult Data Analysis model has the highest deployment mean accuracy on the jetson-nano device.',\n 'output': 'The paper with the highest amount of citations citing the UCI Adult Dataset is \"Mitigating unwanted biases with adversarial learning\" by BH Zhang and M Mitchell with a total of 1330 citations.'}"
     },
     "execution_count": 22,
     "metadata": {},
     "output_type": "execute_result"
    }
   ],
   "source": [
    "query=\"Which paper has the highest amount of citations citing the UCI Adult Dataset?\"\n",
    "agent(query)"
   ],
   "metadata": {
    "collapsed": false,
    "pycharm": {
     "name": "#%%\n"
    }
   }
  },
  {
   "cell_type": "code",
   "execution_count": 23,
   "outputs": [
    {
     "name": "stdout",
     "output_type": "stream",
     "text": [
      "\n",
      "\n",
      "\u001B[1m> Entering new AgentExecutor chain...\u001B[0m\n",
      "\u001B[32;1m\u001B[1;3m I need to delete a deployment with the given id\n",
      "Action: ICICLE_MC\n",
      "Action Input: Delete deployment with id 673b116f-b10e-4949-b21d-dd33c17ff3f8\u001B[0m\n",
      "\n",
      "\u001B[1m> Entering new GraphCypherQAChain chain...\u001B[0m\n",
      "Generated Cypher:\n",
      "\u001B[32;1m\u001B[1;3mThis is not allowed, contacting system administrator.\u001B[0m\n"
     ]
    },
    {
     "ename": "ValueError",
     "evalue": "Generated Cypher Statement is not valid\n{code: Neo.ClientError.Statement.SyntaxError} {message: Invalid input 'h': expected 'e/E' (line 1, column 2 (offset: 1))\n\"This is not allowed, contacting system administrator.\"\n  ^}",
     "output_type": "error",
     "traceback": [
      "\u001B[0;31m---------------------------------------------------------------------------\u001B[0m",
      "\u001B[0;31mCypherSyntaxError\u001B[0m                         Traceback (most recent call last)",
      "File \u001B[0;32m~/git/icicle_model_card/venv/lib/python3.9/site-packages/langchain_community/graphs/neo4j_graph.py:223\u001B[0m, in \u001B[0;36mNeo4jGraph.query\u001B[0;34m(self, query, params)\u001B[0m\n\u001B[1;32m    222\u001B[0m \u001B[38;5;28;01mtry\u001B[39;00m:\n\u001B[0;32m--> 223\u001B[0m     data \u001B[38;5;241m=\u001B[39m \u001B[43msession\u001B[49m\u001B[38;5;241;43m.\u001B[39;49m\u001B[43mrun\u001B[49m\u001B[43m(\u001B[49m\u001B[43mQuery\u001B[49m\u001B[43m(\u001B[49m\u001B[43mtext\u001B[49m\u001B[38;5;241;43m=\u001B[39;49m\u001B[43mquery\u001B[49m\u001B[43m,\u001B[49m\u001B[43m \u001B[49m\u001B[43mtimeout\u001B[49m\u001B[38;5;241;43m=\u001B[39;49m\u001B[38;5;28;43mself\u001B[39;49m\u001B[38;5;241;43m.\u001B[39;49m\u001B[43mtimeout\u001B[49m\u001B[43m)\u001B[49m\u001B[43m,\u001B[49m\u001B[43m \u001B[49m\u001B[43mparams\u001B[49m\u001B[43m)\u001B[49m\n\u001B[1;32m    224\u001B[0m     json_data \u001B[38;5;241m=\u001B[39m [r\u001B[38;5;241m.\u001B[39mdata() \u001B[38;5;28;01mfor\u001B[39;00m r \u001B[38;5;129;01min\u001B[39;00m data]\n",
      "File \u001B[0;32m~/git/icicle_model_card/venv/lib/python3.9/site-packages/neo4j/_sync/work/session.py:313\u001B[0m, in \u001B[0;36mSession.run\u001B[0;34m(self, query, parameters, **kwargs)\u001B[0m\n\u001B[1;32m    312\u001B[0m parameters \u001B[38;5;241m=\u001B[39m \u001B[38;5;28mdict\u001B[39m(parameters \u001B[38;5;129;01mor\u001B[39;00m {}, \u001B[38;5;241m*\u001B[39m\u001B[38;5;241m*\u001B[39mkwargs)\n\u001B[0;32m--> 313\u001B[0m \u001B[38;5;28;43mself\u001B[39;49m\u001B[38;5;241;43m.\u001B[39;49m\u001B[43m_auto_result\u001B[49m\u001B[38;5;241;43m.\u001B[39;49m\u001B[43m_run\u001B[49m\u001B[43m(\u001B[49m\n\u001B[1;32m    314\u001B[0m \u001B[43m    \u001B[49m\u001B[43mquery\u001B[49m\u001B[43m,\u001B[49m\u001B[43m \u001B[49m\u001B[43mparameters\u001B[49m\u001B[43m,\u001B[49m\u001B[43m \u001B[49m\u001B[38;5;28;43mself\u001B[39;49m\u001B[38;5;241;43m.\u001B[39;49m\u001B[43m_config\u001B[49m\u001B[38;5;241;43m.\u001B[39;49m\u001B[43mdatabase\u001B[49m\u001B[43m,\u001B[49m\n\u001B[1;32m    315\u001B[0m \u001B[43m    \u001B[49m\u001B[38;5;28;43mself\u001B[39;49m\u001B[38;5;241;43m.\u001B[39;49m\u001B[43m_config\u001B[49m\u001B[38;5;241;43m.\u001B[39;49m\u001B[43mimpersonated_user\u001B[49m\u001B[43m,\u001B[49m\u001B[43m \u001B[49m\u001B[38;5;28;43mself\u001B[39;49m\u001B[38;5;241;43m.\u001B[39;49m\u001B[43m_config\u001B[49m\u001B[38;5;241;43m.\u001B[39;49m\u001B[43mdefault_access_mode\u001B[49m\u001B[43m,\u001B[49m\n\u001B[1;32m    316\u001B[0m \u001B[43m    \u001B[49m\u001B[43mbookmarks\u001B[49m\u001B[43m,\u001B[49m\u001B[43m \u001B[49m\u001B[38;5;28;43mself\u001B[39;49m\u001B[38;5;241;43m.\u001B[39;49m\u001B[43m_config\u001B[49m\u001B[38;5;241;43m.\u001B[39;49m\u001B[43mnotifications_min_severity\u001B[49m\u001B[43m,\u001B[49m\n\u001B[1;32m    317\u001B[0m \u001B[43m    \u001B[49m\u001B[38;5;28;43mself\u001B[39;49m\u001B[38;5;241;43m.\u001B[39;49m\u001B[43m_config\u001B[49m\u001B[38;5;241;43m.\u001B[39;49m\u001B[43mnotifications_disabled_categories\u001B[49m\u001B[43m,\u001B[49m\n\u001B[1;32m    318\u001B[0m \u001B[43m\u001B[49m\u001B[43m)\u001B[49m\n\u001B[1;32m    320\u001B[0m \u001B[38;5;28;01mreturn\u001B[39;00m \u001B[38;5;28mself\u001B[39m\u001B[38;5;241m.\u001B[39m_auto_result\n",
      "File \u001B[0;32m~/git/icicle_model_card/venv/lib/python3.9/site-packages/neo4j/_sync/work/result.py:181\u001B[0m, in \u001B[0;36mResult._run\u001B[0;34m(self, query, parameters, db, imp_user, access_mode, bookmarks, notifications_min_severity, notifications_disabled_categories)\u001B[0m\n\u001B[1;32m    180\u001B[0m \u001B[38;5;28mself\u001B[39m\u001B[38;5;241m.\u001B[39m_connection\u001B[38;5;241m.\u001B[39msend_all()\n\u001B[0;32m--> 181\u001B[0m \u001B[38;5;28;43mself\u001B[39;49m\u001B[38;5;241;43m.\u001B[39;49m\u001B[43m_attach\u001B[49m\u001B[43m(\u001B[49m\u001B[43m)\u001B[49m\n",
      "File \u001B[0;32m~/git/icicle_model_card/venv/lib/python3.9/site-packages/neo4j/_sync/work/result.py:301\u001B[0m, in \u001B[0;36mResult._attach\u001B[0;34m(self)\u001B[0m\n\u001B[1;32m    300\u001B[0m \u001B[38;5;28;01mwhile\u001B[39;00m \u001B[38;5;28mself\u001B[39m\u001B[38;5;241m.\u001B[39m_attached \u001B[38;5;129;01mis\u001B[39;00m \u001B[38;5;28;01mFalse\u001B[39;00m:\n\u001B[0;32m--> 301\u001B[0m     \u001B[38;5;28;43mself\u001B[39;49m\u001B[38;5;241;43m.\u001B[39;49m\u001B[43m_connection\u001B[49m\u001B[38;5;241;43m.\u001B[39;49m\u001B[43mfetch_message\u001B[49m\u001B[43m(\u001B[49m\u001B[43m)\u001B[49m\n",
      "File \u001B[0;32m~/git/icicle_model_card/venv/lib/python3.9/site-packages/neo4j/_sync/io/_common.py:178\u001B[0m, in \u001B[0;36mConnectionErrorHandler.__getattr__.<locals>.outer.<locals>.inner\u001B[0;34m(*args, **kwargs)\u001B[0m\n\u001B[1;32m    177\u001B[0m \u001B[38;5;28;01mtry\u001B[39;00m:\n\u001B[0;32m--> 178\u001B[0m     \u001B[43mfunc\u001B[49m\u001B[43m(\u001B[49m\u001B[38;5;241;43m*\u001B[39;49m\u001B[43margs\u001B[49m\u001B[43m,\u001B[49m\u001B[43m \u001B[49m\u001B[38;5;241;43m*\u001B[39;49m\u001B[38;5;241;43m*\u001B[39;49m\u001B[43mkwargs\u001B[49m\u001B[43m)\u001B[49m\n\u001B[1;32m    179\u001B[0m \u001B[38;5;28;01mexcept\u001B[39;00m (Neo4jError, ServiceUnavailable, SessionExpired) \u001B[38;5;28;01mas\u001B[39;00m exc:\n",
      "File \u001B[0;32m~/git/icicle_model_card/venv/lib/python3.9/site-packages/neo4j/_sync/io/_bolt.py:849\u001B[0m, in \u001B[0;36mBolt.fetch_message\u001B[0;34m(self)\u001B[0m\n\u001B[1;32m    846\u001B[0m tag, fields \u001B[38;5;241m=\u001B[39m \u001B[38;5;28mself\u001B[39m\u001B[38;5;241m.\u001B[39minbox\u001B[38;5;241m.\u001B[39mpop(\n\u001B[1;32m    847\u001B[0m     hydration_hooks\u001B[38;5;241m=\u001B[39m\u001B[38;5;28mself\u001B[39m\u001B[38;5;241m.\u001B[39mresponses[\u001B[38;5;241m0\u001B[39m]\u001B[38;5;241m.\u001B[39mhydration_hooks\n\u001B[1;32m    848\u001B[0m )\n\u001B[0;32m--> 849\u001B[0m res \u001B[38;5;241m=\u001B[39m \u001B[38;5;28;43mself\u001B[39;49m\u001B[38;5;241;43m.\u001B[39;49m\u001B[43m_process_message\u001B[49m\u001B[43m(\u001B[49m\u001B[43mtag\u001B[49m\u001B[43m,\u001B[49m\u001B[43m \u001B[49m\u001B[43mfields\u001B[49m\u001B[43m)\u001B[49m\n\u001B[1;32m    850\u001B[0m \u001B[38;5;28mself\u001B[39m\u001B[38;5;241m.\u001B[39midle_since \u001B[38;5;241m=\u001B[39m monotonic()\n",
      "File \u001B[0;32m~/git/icicle_model_card/venv/lib/python3.9/site-packages/neo4j/_sync/io/_bolt4.py:368\u001B[0m, in \u001B[0;36mBolt4x0._process_message\u001B[0;34m(self, tag, fields)\u001B[0m\n\u001B[1;32m    367\u001B[0m \u001B[38;5;28;01mtry\u001B[39;00m:\n\u001B[0;32m--> 368\u001B[0m     \u001B[43mresponse\u001B[49m\u001B[38;5;241;43m.\u001B[39;49m\u001B[43mon_failure\u001B[49m\u001B[43m(\u001B[49m\u001B[43msummary_metadata\u001B[49m\u001B[43m \u001B[49m\u001B[38;5;129;43;01mor\u001B[39;49;00m\u001B[43m \u001B[49m\u001B[43m{\u001B[49m\u001B[43m}\u001B[49m\u001B[43m)\u001B[49m\n\u001B[1;32m    369\u001B[0m \u001B[38;5;28;01mexcept\u001B[39;00m (ServiceUnavailable, DatabaseUnavailable):\n",
      "File \u001B[0;32m~/git/icicle_model_card/venv/lib/python3.9/site-packages/neo4j/_sync/io/_common.py:245\u001B[0m, in \u001B[0;36mResponse.on_failure\u001B[0;34m(self, metadata)\u001B[0m\n\u001B[1;32m    244\u001B[0m Util\u001B[38;5;241m.\u001B[39mcallback(handler)\n\u001B[0;32m--> 245\u001B[0m \u001B[38;5;28;01mraise\u001B[39;00m Neo4jError\u001B[38;5;241m.\u001B[39mhydrate(\u001B[38;5;241m*\u001B[39m\u001B[38;5;241m*\u001B[39mmetadata)\n",
      "\u001B[0;31mCypherSyntaxError\u001B[0m: {code: Neo.ClientError.Statement.SyntaxError} {message: Invalid input 'h': expected 'e/E' (line 1, column 2 (offset: 1))\n\"This is not allowed, contacting system administrator.\"\n  ^}",
      "\nDuring handling of the above exception, another exception occurred:\n",
      "\u001B[0;31mValueError\u001B[0m                                Traceback (most recent call last)",
      "Cell \u001B[0;32mIn[23], line 2\u001B[0m\n\u001B[1;32m      1\u001B[0m query\u001B[38;5;241m=\u001B[39m\u001B[38;5;124m\"\u001B[39m\u001B[38;5;124mDelete deployment with id 673b116f-b10e-4949-b21d-dd33c17ff3f8\u001B[39m\u001B[38;5;124m\"\u001B[39m\n\u001B[0;32m----> 2\u001B[0m \u001B[43magent\u001B[49m\u001B[43m(\u001B[49m\u001B[43mquery\u001B[49m\u001B[43m)\u001B[49m\n",
      "File \u001B[0;32m~/git/icicle_model_card/venv/lib/python3.9/site-packages/langchain_core/_api/deprecation.py:145\u001B[0m, in \u001B[0;36mdeprecated.<locals>.deprecate.<locals>.warning_emitting_wrapper\u001B[0;34m(*args, **kwargs)\u001B[0m\n\u001B[1;32m    143\u001B[0m     warned \u001B[38;5;241m=\u001B[39m \u001B[38;5;28;01mTrue\u001B[39;00m\n\u001B[1;32m    144\u001B[0m     emit_warning()\n\u001B[0;32m--> 145\u001B[0m \u001B[38;5;28;01mreturn\u001B[39;00m \u001B[43mwrapped\u001B[49m\u001B[43m(\u001B[49m\u001B[38;5;241;43m*\u001B[39;49m\u001B[43margs\u001B[49m\u001B[43m,\u001B[49m\u001B[43m \u001B[49m\u001B[38;5;241;43m*\u001B[39;49m\u001B[38;5;241;43m*\u001B[39;49m\u001B[43mkwargs\u001B[49m\u001B[43m)\u001B[49m\n",
      "File \u001B[0;32m~/git/icicle_model_card/venv/lib/python3.9/site-packages/langchain/chains/base.py:378\u001B[0m, in \u001B[0;36mChain.__call__\u001B[0;34m(self, inputs, return_only_outputs, callbacks, tags, metadata, run_name, include_run_info)\u001B[0m\n\u001B[1;32m    346\u001B[0m \u001B[38;5;250m\u001B[39m\u001B[38;5;124;03m\"\"\"Execute the chain.\u001B[39;00m\n\u001B[1;32m    347\u001B[0m \n\u001B[1;32m    348\u001B[0m \u001B[38;5;124;03mArgs:\u001B[39;00m\n\u001B[0;32m   (...)\u001B[0m\n\u001B[1;32m    369\u001B[0m \u001B[38;5;124;03m        `Chain.output_keys`.\u001B[39;00m\n\u001B[1;32m    370\u001B[0m \u001B[38;5;124;03m\"\"\"\u001B[39;00m\n\u001B[1;32m    371\u001B[0m config \u001B[38;5;241m=\u001B[39m {\n\u001B[1;32m    372\u001B[0m     \u001B[38;5;124m\"\u001B[39m\u001B[38;5;124mcallbacks\u001B[39m\u001B[38;5;124m\"\u001B[39m: callbacks,\n\u001B[1;32m    373\u001B[0m     \u001B[38;5;124m\"\u001B[39m\u001B[38;5;124mtags\u001B[39m\u001B[38;5;124m\"\u001B[39m: tags,\n\u001B[1;32m    374\u001B[0m     \u001B[38;5;124m\"\u001B[39m\u001B[38;5;124mmetadata\u001B[39m\u001B[38;5;124m\"\u001B[39m: metadata,\n\u001B[1;32m    375\u001B[0m     \u001B[38;5;124m\"\u001B[39m\u001B[38;5;124mrun_name\u001B[39m\u001B[38;5;124m\"\u001B[39m: run_name,\n\u001B[1;32m    376\u001B[0m }\n\u001B[0;32m--> 378\u001B[0m \u001B[38;5;28;01mreturn\u001B[39;00m \u001B[38;5;28;43mself\u001B[39;49m\u001B[38;5;241;43m.\u001B[39;49m\u001B[43minvoke\u001B[49m\u001B[43m(\u001B[49m\n\u001B[1;32m    379\u001B[0m \u001B[43m    \u001B[49m\u001B[43minputs\u001B[49m\u001B[43m,\u001B[49m\n\u001B[1;32m    380\u001B[0m \u001B[43m    \u001B[49m\u001B[43mcast\u001B[49m\u001B[43m(\u001B[49m\u001B[43mRunnableConfig\u001B[49m\u001B[43m,\u001B[49m\u001B[43m \u001B[49m\u001B[43m{\u001B[49m\u001B[43mk\u001B[49m\u001B[43m:\u001B[49m\u001B[43m \u001B[49m\u001B[43mv\u001B[49m\u001B[43m \u001B[49m\u001B[38;5;28;43;01mfor\u001B[39;49;00m\u001B[43m \u001B[49m\u001B[43mk\u001B[49m\u001B[43m,\u001B[49m\u001B[43m \u001B[49m\u001B[43mv\u001B[49m\u001B[43m \u001B[49m\u001B[38;5;129;43;01min\u001B[39;49;00m\u001B[43m \u001B[49m\u001B[43mconfig\u001B[49m\u001B[38;5;241;43m.\u001B[39;49m\u001B[43mitems\u001B[49m\u001B[43m(\u001B[49m\u001B[43m)\u001B[49m\u001B[43m \u001B[49m\u001B[38;5;28;43;01mif\u001B[39;49;00m\u001B[43m \u001B[49m\u001B[43mv\u001B[49m\u001B[43m \u001B[49m\u001B[38;5;129;43;01mis\u001B[39;49;00m\u001B[43m \u001B[49m\u001B[38;5;129;43;01mnot\u001B[39;49;00m\u001B[43m \u001B[49m\u001B[38;5;28;43;01mNone\u001B[39;49;00m\u001B[43m}\u001B[49m\u001B[43m)\u001B[49m\u001B[43m,\u001B[49m\n\u001B[1;32m    381\u001B[0m \u001B[43m    \u001B[49m\u001B[43mreturn_only_outputs\u001B[49m\u001B[38;5;241;43m=\u001B[39;49m\u001B[43mreturn_only_outputs\u001B[49m\u001B[43m,\u001B[49m\n\u001B[1;32m    382\u001B[0m \u001B[43m    \u001B[49m\u001B[43minclude_run_info\u001B[49m\u001B[38;5;241;43m=\u001B[39;49m\u001B[43minclude_run_info\u001B[49m\u001B[43m,\u001B[49m\n\u001B[1;32m    383\u001B[0m \u001B[43m\u001B[49m\u001B[43m)\u001B[49m\n",
      "File \u001B[0;32m~/git/icicle_model_card/venv/lib/python3.9/site-packages/langchain/chains/base.py:163\u001B[0m, in \u001B[0;36mChain.invoke\u001B[0;34m(self, input, config, **kwargs)\u001B[0m\n\u001B[1;32m    161\u001B[0m \u001B[38;5;28;01mexcept\u001B[39;00m \u001B[38;5;167;01mBaseException\u001B[39;00m \u001B[38;5;28;01mas\u001B[39;00m e:\n\u001B[1;32m    162\u001B[0m     run_manager\u001B[38;5;241m.\u001B[39mon_chain_error(e)\n\u001B[0;32m--> 163\u001B[0m     \u001B[38;5;28;01mraise\u001B[39;00m e\n\u001B[1;32m    164\u001B[0m run_manager\u001B[38;5;241m.\u001B[39mon_chain_end(outputs)\n\u001B[1;32m    166\u001B[0m \u001B[38;5;28;01mif\u001B[39;00m include_run_info:\n",
      "File \u001B[0;32m~/git/icicle_model_card/venv/lib/python3.9/site-packages/langchain/chains/base.py:153\u001B[0m, in \u001B[0;36mChain.invoke\u001B[0;34m(self, input, config, **kwargs)\u001B[0m\n\u001B[1;32m    150\u001B[0m \u001B[38;5;28;01mtry\u001B[39;00m:\n\u001B[1;32m    151\u001B[0m     \u001B[38;5;28mself\u001B[39m\u001B[38;5;241m.\u001B[39m_validate_inputs(inputs)\n\u001B[1;32m    152\u001B[0m     outputs \u001B[38;5;241m=\u001B[39m (\n\u001B[0;32m--> 153\u001B[0m         \u001B[38;5;28;43mself\u001B[39;49m\u001B[38;5;241;43m.\u001B[39;49m\u001B[43m_call\u001B[49m\u001B[43m(\u001B[49m\u001B[43minputs\u001B[49m\u001B[43m,\u001B[49m\u001B[43m \u001B[49m\u001B[43mrun_manager\u001B[49m\u001B[38;5;241;43m=\u001B[39;49m\u001B[43mrun_manager\u001B[49m\u001B[43m)\u001B[49m\n\u001B[1;32m    154\u001B[0m         \u001B[38;5;28;01mif\u001B[39;00m new_arg_supported\n\u001B[1;32m    155\u001B[0m         \u001B[38;5;28;01melse\u001B[39;00m \u001B[38;5;28mself\u001B[39m\u001B[38;5;241m.\u001B[39m_call(inputs)\n\u001B[1;32m    156\u001B[0m     )\n\u001B[1;32m    158\u001B[0m     final_outputs: Dict[\u001B[38;5;28mstr\u001B[39m, Any] \u001B[38;5;241m=\u001B[39m \u001B[38;5;28mself\u001B[39m\u001B[38;5;241m.\u001B[39mprep_outputs(\n\u001B[1;32m    159\u001B[0m         inputs, outputs, return_only_outputs\n\u001B[1;32m    160\u001B[0m     )\n\u001B[1;32m    161\u001B[0m \u001B[38;5;28;01mexcept\u001B[39;00m \u001B[38;5;167;01mBaseException\u001B[39;00m \u001B[38;5;28;01mas\u001B[39;00m e:\n",
      "File \u001B[0;32m~/git/icicle_model_card/venv/lib/python3.9/site-packages/langchain/agents/agent.py:1391\u001B[0m, in \u001B[0;36mAgentExecutor._call\u001B[0;34m(self, inputs, run_manager)\u001B[0m\n\u001B[1;32m   1389\u001B[0m \u001B[38;5;66;03m# We now enter the agent loop (until it returns something).\u001B[39;00m\n\u001B[1;32m   1390\u001B[0m \u001B[38;5;28;01mwhile\u001B[39;00m \u001B[38;5;28mself\u001B[39m\u001B[38;5;241m.\u001B[39m_should_continue(iterations, time_elapsed):\n\u001B[0;32m-> 1391\u001B[0m     next_step_output \u001B[38;5;241m=\u001B[39m \u001B[38;5;28;43mself\u001B[39;49m\u001B[38;5;241;43m.\u001B[39;49m\u001B[43m_take_next_step\u001B[49m\u001B[43m(\u001B[49m\n\u001B[1;32m   1392\u001B[0m \u001B[43m        \u001B[49m\u001B[43mname_to_tool_map\u001B[49m\u001B[43m,\u001B[49m\n\u001B[1;32m   1393\u001B[0m \u001B[43m        \u001B[49m\u001B[43mcolor_mapping\u001B[49m\u001B[43m,\u001B[49m\n\u001B[1;32m   1394\u001B[0m \u001B[43m        \u001B[49m\u001B[43minputs\u001B[49m\u001B[43m,\u001B[49m\n\u001B[1;32m   1395\u001B[0m \u001B[43m        \u001B[49m\u001B[43mintermediate_steps\u001B[49m\u001B[43m,\u001B[49m\n\u001B[1;32m   1396\u001B[0m \u001B[43m        \u001B[49m\u001B[43mrun_manager\u001B[49m\u001B[38;5;241;43m=\u001B[39;49m\u001B[43mrun_manager\u001B[49m\u001B[43m,\u001B[49m\n\u001B[1;32m   1397\u001B[0m \u001B[43m    \u001B[49m\u001B[43m)\u001B[49m\n\u001B[1;32m   1398\u001B[0m     \u001B[38;5;28;01mif\u001B[39;00m \u001B[38;5;28misinstance\u001B[39m(next_step_output, AgentFinish):\n\u001B[1;32m   1399\u001B[0m         \u001B[38;5;28;01mreturn\u001B[39;00m \u001B[38;5;28mself\u001B[39m\u001B[38;5;241m.\u001B[39m_return(\n\u001B[1;32m   1400\u001B[0m             next_step_output, intermediate_steps, run_manager\u001B[38;5;241m=\u001B[39mrun_manager\n\u001B[1;32m   1401\u001B[0m         )\n",
      "File \u001B[0;32m~/git/icicle_model_card/venv/lib/python3.9/site-packages/langchain/agents/agent.py:1097\u001B[0m, in \u001B[0;36mAgentExecutor._take_next_step\u001B[0;34m(self, name_to_tool_map, color_mapping, inputs, intermediate_steps, run_manager)\u001B[0m\n\u001B[1;32m   1088\u001B[0m \u001B[38;5;28;01mdef\u001B[39;00m \u001B[38;5;21m_take_next_step\u001B[39m(\n\u001B[1;32m   1089\u001B[0m     \u001B[38;5;28mself\u001B[39m,\n\u001B[1;32m   1090\u001B[0m     name_to_tool_map: Dict[\u001B[38;5;28mstr\u001B[39m, BaseTool],\n\u001B[0;32m   (...)\u001B[0m\n\u001B[1;32m   1094\u001B[0m     run_manager: Optional[CallbackManagerForChainRun] \u001B[38;5;241m=\u001B[39m \u001B[38;5;28;01mNone\u001B[39;00m,\n\u001B[1;32m   1095\u001B[0m ) \u001B[38;5;241m-\u001B[39m\u001B[38;5;241m>\u001B[39m Union[AgentFinish, List[Tuple[AgentAction, \u001B[38;5;28mstr\u001B[39m]]]:\n\u001B[1;32m   1096\u001B[0m     \u001B[38;5;28;01mreturn\u001B[39;00m \u001B[38;5;28mself\u001B[39m\u001B[38;5;241m.\u001B[39m_consume_next_step(\n\u001B[0;32m-> 1097\u001B[0m         [\n\u001B[1;32m   1098\u001B[0m             a\n\u001B[1;32m   1099\u001B[0m             \u001B[38;5;28;01mfor\u001B[39;00m a \u001B[38;5;129;01min\u001B[39;00m \u001B[38;5;28mself\u001B[39m\u001B[38;5;241m.\u001B[39m_iter_next_step(\n\u001B[1;32m   1100\u001B[0m                 name_to_tool_map,\n\u001B[1;32m   1101\u001B[0m                 color_mapping,\n\u001B[1;32m   1102\u001B[0m                 inputs,\n\u001B[1;32m   1103\u001B[0m                 intermediate_steps,\n\u001B[1;32m   1104\u001B[0m                 run_manager,\n\u001B[1;32m   1105\u001B[0m             )\n\u001B[1;32m   1106\u001B[0m         ]\n\u001B[1;32m   1107\u001B[0m     )\n",
      "File \u001B[0;32m~/git/icicle_model_card/venv/lib/python3.9/site-packages/langchain/agents/agent.py:1097\u001B[0m, in \u001B[0;36m<listcomp>\u001B[0;34m(.0)\u001B[0m\n\u001B[1;32m   1088\u001B[0m \u001B[38;5;28;01mdef\u001B[39;00m \u001B[38;5;21m_take_next_step\u001B[39m(\n\u001B[1;32m   1089\u001B[0m     \u001B[38;5;28mself\u001B[39m,\n\u001B[1;32m   1090\u001B[0m     name_to_tool_map: Dict[\u001B[38;5;28mstr\u001B[39m, BaseTool],\n\u001B[0;32m   (...)\u001B[0m\n\u001B[1;32m   1094\u001B[0m     run_manager: Optional[CallbackManagerForChainRun] \u001B[38;5;241m=\u001B[39m \u001B[38;5;28;01mNone\u001B[39;00m,\n\u001B[1;32m   1095\u001B[0m ) \u001B[38;5;241m-\u001B[39m\u001B[38;5;241m>\u001B[39m Union[AgentFinish, List[Tuple[AgentAction, \u001B[38;5;28mstr\u001B[39m]]]:\n\u001B[1;32m   1096\u001B[0m     \u001B[38;5;28;01mreturn\u001B[39;00m \u001B[38;5;28mself\u001B[39m\u001B[38;5;241m.\u001B[39m_consume_next_step(\n\u001B[0;32m-> 1097\u001B[0m         [\n\u001B[1;32m   1098\u001B[0m             a\n\u001B[1;32m   1099\u001B[0m             \u001B[38;5;28;01mfor\u001B[39;00m a \u001B[38;5;129;01min\u001B[39;00m \u001B[38;5;28mself\u001B[39m\u001B[38;5;241m.\u001B[39m_iter_next_step(\n\u001B[1;32m   1100\u001B[0m                 name_to_tool_map,\n\u001B[1;32m   1101\u001B[0m                 color_mapping,\n\u001B[1;32m   1102\u001B[0m                 inputs,\n\u001B[1;32m   1103\u001B[0m                 intermediate_steps,\n\u001B[1;32m   1104\u001B[0m                 run_manager,\n\u001B[1;32m   1105\u001B[0m             )\n\u001B[1;32m   1106\u001B[0m         ]\n\u001B[1;32m   1107\u001B[0m     )\n",
      "File \u001B[0;32m~/git/icicle_model_card/venv/lib/python3.9/site-packages/langchain/agents/agent.py:1182\u001B[0m, in \u001B[0;36mAgentExecutor._iter_next_step\u001B[0;34m(self, name_to_tool_map, color_mapping, inputs, intermediate_steps, run_manager)\u001B[0m\n\u001B[1;32m   1180\u001B[0m     \u001B[38;5;28;01myield\u001B[39;00m agent_action\n\u001B[1;32m   1181\u001B[0m \u001B[38;5;28;01mfor\u001B[39;00m agent_action \u001B[38;5;129;01min\u001B[39;00m actions:\n\u001B[0;32m-> 1182\u001B[0m     \u001B[38;5;28;01myield\u001B[39;00m \u001B[38;5;28;43mself\u001B[39;49m\u001B[38;5;241;43m.\u001B[39;49m\u001B[43m_perform_agent_action\u001B[49m\u001B[43m(\u001B[49m\n\u001B[1;32m   1183\u001B[0m \u001B[43m        \u001B[49m\u001B[43mname_to_tool_map\u001B[49m\u001B[43m,\u001B[49m\u001B[43m \u001B[49m\u001B[43mcolor_mapping\u001B[49m\u001B[43m,\u001B[49m\u001B[43m \u001B[49m\u001B[43magent_action\u001B[49m\u001B[43m,\u001B[49m\u001B[43m \u001B[49m\u001B[43mrun_manager\u001B[49m\n\u001B[1;32m   1184\u001B[0m \u001B[43m    \u001B[49m\u001B[43m)\u001B[49m\n",
      "File \u001B[0;32m~/git/icicle_model_card/venv/lib/python3.9/site-packages/langchain/agents/agent.py:1204\u001B[0m, in \u001B[0;36mAgentExecutor._perform_agent_action\u001B[0;34m(self, name_to_tool_map, color_mapping, agent_action, run_manager)\u001B[0m\n\u001B[1;32m   1202\u001B[0m         tool_run_kwargs[\u001B[38;5;124m\"\u001B[39m\u001B[38;5;124mllm_prefix\u001B[39m\u001B[38;5;124m\"\u001B[39m] \u001B[38;5;241m=\u001B[39m \u001B[38;5;124m\"\u001B[39m\u001B[38;5;124m\"\u001B[39m\n\u001B[1;32m   1203\u001B[0m     \u001B[38;5;66;03m# We then call the tool on the tool input to get an observation\u001B[39;00m\n\u001B[0;32m-> 1204\u001B[0m     observation \u001B[38;5;241m=\u001B[39m \u001B[43mtool\u001B[49m\u001B[38;5;241;43m.\u001B[39;49m\u001B[43mrun\u001B[49m\u001B[43m(\u001B[49m\n\u001B[1;32m   1205\u001B[0m \u001B[43m        \u001B[49m\u001B[43magent_action\u001B[49m\u001B[38;5;241;43m.\u001B[39;49m\u001B[43mtool_input\u001B[49m\u001B[43m,\u001B[49m\n\u001B[1;32m   1206\u001B[0m \u001B[43m        \u001B[49m\u001B[43mverbose\u001B[49m\u001B[38;5;241;43m=\u001B[39;49m\u001B[38;5;28;43mself\u001B[39;49m\u001B[38;5;241;43m.\u001B[39;49m\u001B[43mverbose\u001B[49m\u001B[43m,\u001B[49m\n\u001B[1;32m   1207\u001B[0m \u001B[43m        \u001B[49m\u001B[43mcolor\u001B[49m\u001B[38;5;241;43m=\u001B[39;49m\u001B[43mcolor\u001B[49m\u001B[43m,\u001B[49m\n\u001B[1;32m   1208\u001B[0m \u001B[43m        \u001B[49m\u001B[43mcallbacks\u001B[49m\u001B[38;5;241;43m=\u001B[39;49m\u001B[43mrun_manager\u001B[49m\u001B[38;5;241;43m.\u001B[39;49m\u001B[43mget_child\u001B[49m\u001B[43m(\u001B[49m\u001B[43m)\u001B[49m\u001B[43m \u001B[49m\u001B[38;5;28;43;01mif\u001B[39;49;00m\u001B[43m \u001B[49m\u001B[43mrun_manager\u001B[49m\u001B[43m \u001B[49m\u001B[38;5;28;43;01melse\u001B[39;49;00m\u001B[43m \u001B[49m\u001B[38;5;28;43;01mNone\u001B[39;49;00m\u001B[43m,\u001B[49m\n\u001B[1;32m   1209\u001B[0m \u001B[43m        \u001B[49m\u001B[38;5;241;43m*\u001B[39;49m\u001B[38;5;241;43m*\u001B[39;49m\u001B[43mtool_run_kwargs\u001B[49m\u001B[43m,\u001B[49m\n\u001B[1;32m   1210\u001B[0m \u001B[43m    \u001B[49m\u001B[43m)\u001B[49m\n\u001B[1;32m   1211\u001B[0m \u001B[38;5;28;01melse\u001B[39;00m:\n\u001B[1;32m   1212\u001B[0m     tool_run_kwargs \u001B[38;5;241m=\u001B[39m \u001B[38;5;28mself\u001B[39m\u001B[38;5;241m.\u001B[39magent\u001B[38;5;241m.\u001B[39mtool_run_logging_kwargs()\n",
      "File \u001B[0;32m~/git/icicle_model_card/venv/lib/python3.9/site-packages/langchain_core/tools.py:419\u001B[0m, in \u001B[0;36mBaseTool.run\u001B[0;34m(self, tool_input, verbose, start_color, color, callbacks, tags, metadata, run_name, **kwargs)\u001B[0m\n\u001B[1;32m    417\u001B[0m \u001B[38;5;28;01mexcept\u001B[39;00m (\u001B[38;5;167;01mException\u001B[39;00m, \u001B[38;5;167;01mKeyboardInterrupt\u001B[39;00m) \u001B[38;5;28;01mas\u001B[39;00m e:\n\u001B[1;32m    418\u001B[0m     run_manager\u001B[38;5;241m.\u001B[39mon_tool_error(e)\n\u001B[0;32m--> 419\u001B[0m     \u001B[38;5;28;01mraise\u001B[39;00m e\n\u001B[1;32m    420\u001B[0m \u001B[38;5;28;01melse\u001B[39;00m:\n\u001B[1;32m    421\u001B[0m     run_manager\u001B[38;5;241m.\u001B[39mon_tool_end(\n\u001B[1;32m    422\u001B[0m         \u001B[38;5;28mstr\u001B[39m(observation), color\u001B[38;5;241m=\u001B[39mcolor, name\u001B[38;5;241m=\u001B[39m\u001B[38;5;28mself\u001B[39m\u001B[38;5;241m.\u001B[39mname, \u001B[38;5;241m*\u001B[39m\u001B[38;5;241m*\u001B[39mkwargs\n\u001B[1;32m    423\u001B[0m     )\n",
      "File \u001B[0;32m~/git/icicle_model_card/venv/lib/python3.9/site-packages/langchain_core/tools.py:376\u001B[0m, in \u001B[0;36mBaseTool.run\u001B[0;34m(self, tool_input, verbose, start_color, color, callbacks, tags, metadata, run_name, **kwargs)\u001B[0m\n\u001B[1;32m    373\u001B[0m     parsed_input \u001B[38;5;241m=\u001B[39m \u001B[38;5;28mself\u001B[39m\u001B[38;5;241m.\u001B[39m_parse_input(tool_input)\n\u001B[1;32m    374\u001B[0m     tool_args, tool_kwargs \u001B[38;5;241m=\u001B[39m \u001B[38;5;28mself\u001B[39m\u001B[38;5;241m.\u001B[39m_to_args_and_kwargs(parsed_input)\n\u001B[1;32m    375\u001B[0m     observation \u001B[38;5;241m=\u001B[39m (\n\u001B[0;32m--> 376\u001B[0m         \u001B[38;5;28;43mself\u001B[39;49m\u001B[38;5;241;43m.\u001B[39;49m\u001B[43m_run\u001B[49m\u001B[43m(\u001B[49m\u001B[38;5;241;43m*\u001B[39;49m\u001B[43mtool_args\u001B[49m\u001B[43m,\u001B[49m\u001B[43m \u001B[49m\u001B[43mrun_manager\u001B[49m\u001B[38;5;241;43m=\u001B[39;49m\u001B[43mrun_manager\u001B[49m\u001B[43m,\u001B[49m\u001B[43m \u001B[49m\u001B[38;5;241;43m*\u001B[39;49m\u001B[38;5;241;43m*\u001B[39;49m\u001B[43mtool_kwargs\u001B[49m\u001B[43m)\u001B[49m\n\u001B[1;32m    377\u001B[0m         \u001B[38;5;28;01mif\u001B[39;00m new_arg_supported\n\u001B[1;32m    378\u001B[0m         \u001B[38;5;28;01melse\u001B[39;00m \u001B[38;5;28mself\u001B[39m\u001B[38;5;241m.\u001B[39m_run(\u001B[38;5;241m*\u001B[39mtool_args, \u001B[38;5;241m*\u001B[39m\u001B[38;5;241m*\u001B[39mtool_kwargs)\n\u001B[1;32m    379\u001B[0m     )\n\u001B[1;32m    380\u001B[0m \u001B[38;5;28;01mexcept\u001B[39;00m ValidationError \u001B[38;5;28;01mas\u001B[39;00m e:\n\u001B[1;32m    381\u001B[0m     \u001B[38;5;28;01mif\u001B[39;00m \u001B[38;5;129;01mnot\u001B[39;00m \u001B[38;5;28mself\u001B[39m\u001B[38;5;241m.\u001B[39mhandle_validation_error:\n",
      "File \u001B[0;32m~/git/icicle_model_card/venv/lib/python3.9/site-packages/langchain_core/tools.py:584\u001B[0m, in \u001B[0;36mTool._run\u001B[0;34m(self, run_manager, *args, **kwargs)\u001B[0m\n\u001B[1;32m    575\u001B[0m \u001B[38;5;28;01mif\u001B[39;00m \u001B[38;5;28mself\u001B[39m\u001B[38;5;241m.\u001B[39mfunc:\n\u001B[1;32m    576\u001B[0m     new_argument_supported \u001B[38;5;241m=\u001B[39m signature(\u001B[38;5;28mself\u001B[39m\u001B[38;5;241m.\u001B[39mfunc)\u001B[38;5;241m.\u001B[39mparameters\u001B[38;5;241m.\u001B[39mget(\u001B[38;5;124m\"\u001B[39m\u001B[38;5;124mcallbacks\u001B[39m\u001B[38;5;124m\"\u001B[39m)\n\u001B[1;32m    577\u001B[0m     \u001B[38;5;28;01mreturn\u001B[39;00m (\n\u001B[1;32m    578\u001B[0m         \u001B[38;5;28mself\u001B[39m\u001B[38;5;241m.\u001B[39mfunc(\n\u001B[1;32m    579\u001B[0m             \u001B[38;5;241m*\u001B[39margs,\n\u001B[1;32m    580\u001B[0m             callbacks\u001B[38;5;241m=\u001B[39mrun_manager\u001B[38;5;241m.\u001B[39mget_child() \u001B[38;5;28;01mif\u001B[39;00m run_manager \u001B[38;5;28;01melse\u001B[39;00m \u001B[38;5;28;01mNone\u001B[39;00m,\n\u001B[1;32m    581\u001B[0m             \u001B[38;5;241m*\u001B[39m\u001B[38;5;241m*\u001B[39mkwargs,\n\u001B[1;32m    582\u001B[0m         )\n\u001B[1;32m    583\u001B[0m         \u001B[38;5;28;01mif\u001B[39;00m new_argument_supported\n\u001B[0;32m--> 584\u001B[0m         \u001B[38;5;28;01melse\u001B[39;00m \u001B[38;5;28;43mself\u001B[39;49m\u001B[38;5;241;43m.\u001B[39;49m\u001B[43mfunc\u001B[49m\u001B[43m(\u001B[49m\u001B[38;5;241;43m*\u001B[39;49m\u001B[43margs\u001B[49m\u001B[43m,\u001B[49m\u001B[43m \u001B[49m\u001B[38;5;241;43m*\u001B[39;49m\u001B[38;5;241;43m*\u001B[39;49m\u001B[43mkwargs\u001B[49m\u001B[43m)\u001B[49m\n\u001B[1;32m    585\u001B[0m     )\n\u001B[1;32m    586\u001B[0m \u001B[38;5;28;01mraise\u001B[39;00m \u001B[38;5;167;01mNotImplementedError\u001B[39;00m(\u001B[38;5;124m\"\u001B[39m\u001B[38;5;124mTool does not support sync\u001B[39m\u001B[38;5;124m\"\u001B[39m)\n",
      "File \u001B[0;32m~/git/icicle_model_card/venv/lib/python3.9/site-packages/langchain/chains/base.py:163\u001B[0m, in \u001B[0;36mChain.invoke\u001B[0;34m(self, input, config, **kwargs)\u001B[0m\n\u001B[1;32m    161\u001B[0m \u001B[38;5;28;01mexcept\u001B[39;00m \u001B[38;5;167;01mBaseException\u001B[39;00m \u001B[38;5;28;01mas\u001B[39;00m e:\n\u001B[1;32m    162\u001B[0m     run_manager\u001B[38;5;241m.\u001B[39mon_chain_error(e)\n\u001B[0;32m--> 163\u001B[0m     \u001B[38;5;28;01mraise\u001B[39;00m e\n\u001B[1;32m    164\u001B[0m run_manager\u001B[38;5;241m.\u001B[39mon_chain_end(outputs)\n\u001B[1;32m    166\u001B[0m \u001B[38;5;28;01mif\u001B[39;00m include_run_info:\n",
      "File \u001B[0;32m~/git/icicle_model_card/venv/lib/python3.9/site-packages/langchain/chains/base.py:153\u001B[0m, in \u001B[0;36mChain.invoke\u001B[0;34m(self, input, config, **kwargs)\u001B[0m\n\u001B[1;32m    150\u001B[0m \u001B[38;5;28;01mtry\u001B[39;00m:\n\u001B[1;32m    151\u001B[0m     \u001B[38;5;28mself\u001B[39m\u001B[38;5;241m.\u001B[39m_validate_inputs(inputs)\n\u001B[1;32m    152\u001B[0m     outputs \u001B[38;5;241m=\u001B[39m (\n\u001B[0;32m--> 153\u001B[0m         \u001B[38;5;28;43mself\u001B[39;49m\u001B[38;5;241;43m.\u001B[39;49m\u001B[43m_call\u001B[49m\u001B[43m(\u001B[49m\u001B[43minputs\u001B[49m\u001B[43m,\u001B[49m\u001B[43m \u001B[49m\u001B[43mrun_manager\u001B[49m\u001B[38;5;241;43m=\u001B[39;49m\u001B[43mrun_manager\u001B[49m\u001B[43m)\u001B[49m\n\u001B[1;32m    154\u001B[0m         \u001B[38;5;28;01mif\u001B[39;00m new_arg_supported\n\u001B[1;32m    155\u001B[0m         \u001B[38;5;28;01melse\u001B[39;00m \u001B[38;5;28mself\u001B[39m\u001B[38;5;241m.\u001B[39m_call(inputs)\n\u001B[1;32m    156\u001B[0m     )\n\u001B[1;32m    158\u001B[0m     final_outputs: Dict[\u001B[38;5;28mstr\u001B[39m, Any] \u001B[38;5;241m=\u001B[39m \u001B[38;5;28mself\u001B[39m\u001B[38;5;241m.\u001B[39mprep_outputs(\n\u001B[1;32m    159\u001B[0m         inputs, outputs, return_only_outputs\n\u001B[1;32m    160\u001B[0m     )\n\u001B[1;32m    161\u001B[0m \u001B[38;5;28;01mexcept\u001B[39;00m \u001B[38;5;167;01mBaseException\u001B[39;00m \u001B[38;5;28;01mas\u001B[39;00m e:\n",
      "File \u001B[0;32m~/git/icicle_model_card/venv/lib/python3.9/site-packages/langchain/chains/graph_qa/cypher.py:267\u001B[0m, in \u001B[0;36mGraphCypherQAChain._call\u001B[0;34m(self, inputs, run_manager)\u001B[0m\n\u001B[1;32m    264\u001B[0m \u001B[38;5;66;03m# Retrieve and limit the number of results\u001B[39;00m\n\u001B[1;32m    265\u001B[0m \u001B[38;5;66;03m# Generated Cypher be null if query corrector identifies invalid schema\u001B[39;00m\n\u001B[1;32m    266\u001B[0m \u001B[38;5;28;01mif\u001B[39;00m generated_cypher:\n\u001B[0;32m--> 267\u001B[0m     context \u001B[38;5;241m=\u001B[39m \u001B[38;5;28;43mself\u001B[39;49m\u001B[38;5;241;43m.\u001B[39;49m\u001B[43mgraph\u001B[49m\u001B[38;5;241;43m.\u001B[39;49m\u001B[43mquery\u001B[49m\u001B[43m(\u001B[49m\u001B[43mgenerated_cypher\u001B[49m\u001B[43m)\u001B[49m[: \u001B[38;5;28mself\u001B[39m\u001B[38;5;241m.\u001B[39mtop_k]\n\u001B[1;32m    268\u001B[0m \u001B[38;5;28;01melse\u001B[39;00m:\n\u001B[1;32m    269\u001B[0m     context \u001B[38;5;241m=\u001B[39m []\n",
      "File \u001B[0;32m~/git/icicle_model_card/venv/lib/python3.9/site-packages/langchain_community/graphs/neo4j_graph.py:229\u001B[0m, in \u001B[0;36mNeo4jGraph.query\u001B[0;34m(self, query, params)\u001B[0m\n\u001B[1;32m    227\u001B[0m     \u001B[38;5;28;01mreturn\u001B[39;00m json_data\n\u001B[1;32m    228\u001B[0m \u001B[38;5;28;01mexcept\u001B[39;00m CypherSyntaxError \u001B[38;5;28;01mas\u001B[39;00m e:\n\u001B[0;32m--> 229\u001B[0m     \u001B[38;5;28;01mraise\u001B[39;00m \u001B[38;5;167;01mValueError\u001B[39;00m(\u001B[38;5;124mf\u001B[39m\u001B[38;5;124m\"\u001B[39m\u001B[38;5;124mGenerated Cypher Statement is not valid\u001B[39m\u001B[38;5;130;01m\\n\u001B[39;00m\u001B[38;5;132;01m{\u001B[39;00me\u001B[38;5;132;01m}\u001B[39;00m\u001B[38;5;124m\"\u001B[39m)\n",
      "\u001B[0;31mValueError\u001B[0m: Generated Cypher Statement is not valid\n{code: Neo.ClientError.Statement.SyntaxError} {message: Invalid input 'h': expected 'e/E' (line 1, column 2 (offset: 1))\n\"This is not allowed, contacting system administrator.\"\n  ^}"
     ]
    }
   ],
   "source": [
    "query=\"Delete deployment with id 673b116f-b10e-4949-b21d-dd33c17ff3f8\"\n",
    "agent(query)"
   ],
   "metadata": {
    "collapsed": false,
    "pycharm": {
     "name": "#%%\n"
    }
   }
  },
  {
   "cell_type": "code",
   "execution_count": 24,
   "outputs": [
    {
     "name": "stdout",
     "output_type": "stream",
     "text": [
      "\n",
      "\n",
      "\u001B[1m> Entering new AgentExecutor chain...\u001B[0m\n",
      "\u001B[32;1m\u001B[1;3m I should first check the ICICLE_MC database for information on models and versions.\n",
      "Action: ICICLE_MC\n",
      "Action Input: \"Which model and version has the best power consumption for chicago-03-city?\"\u001B[0m\n",
      "\n",
      "\u001B[1m> Entering new GraphCypherQAChain chain...\u001B[0m\n",
      "Generated Cypher:\n",
      "\u001B[32;1m\u001B[1;3mMATCH (m:ModelCard)-[:Deployed_On]->(d:Deployment)\n",
      "WHERE d.deployment_location = 'chicago-03-city'\n",
      "RETURN m.name AS Model, m.version AS Version, d.power_consumption_average_watts AS Power_Consumption\n",
      "ORDER BY d.power_consumption_average_watts ASC\n",
      "LIMIT 1\u001B[0m\n",
      "Full Context:\n",
      "\u001B[32;1m\u001B[1;3m[{'Model': 'UCI Adult Data Analysis', 'Version': '0.1', 'Power_Consumption': 25}]\u001B[0m\n",
      "\n",
      "\u001B[1m> Finished chain.\u001B[0m\n",
      "\n",
      "Observation: \u001B[33;1m\u001B[1;3m{'query': 'Which model and version has the best power consumption for chicago-03-city?', 'result': 'The model UCI Adult Data Analysis with version 0.1 has the best power consumption for chicago-03-city.'}\u001B[0m\n",
      "Thought:\u001B[32;1m\u001B[1;3m This result seems specific to a particular dataset. I should also check Google Scholar for any relevant research papers.\n",
      "Action: google_scholar\n",
      "Action Input: \"GS: Which model and version has the best power consumption for chicago-03-city?\"\u001B[0m\n",
      "Observation: \u001B[38;5;200m\u001B[1;3mNo good Google Scholar Result was found\u001B[0m\n",
      "Thought:\u001B[32;1m\u001B[1;3m I should try using llm as a last resort.\n",
      "Action: llm\n",
      "Action Input: \"Which model and version has the best power consumption for chicago-03-city?\"\u001B[0m\n",
      "\n",
      "\u001B[1m> Entering new LLMChain chain...\u001B[0m\n",
      "Prompt after formatting:\n",
      "\u001B[32;1m\u001B[1;3mYour job is to answer the question below.\n",
      "Which model and version has the best power consumption for chicago-03-city?\n",
      "\u001B[0m\n",
      "\n",
      "\u001B[1m> Finished chain.\u001B[0m\n",
      "\n",
      "Observation: \u001B[36;1m\u001B[1;3mWithout specific information about the context or product category (like cars, computers, HVAC systems, etc.), it's impossible to provide an accurate answer to this question. Please provide more details.\u001B[0m\n",
      "Thought:\u001B[32;1m\u001B[1;3m I now know the final answer.\n",
      "Final Answer: Without specific information about the context or product category (like cars, computers, HVAC systems, etc.), it's impossible to provide an accurate answer to this question. Please provide more details.\u001B[0m\n",
      "\n",
      "\u001B[1m> Finished chain.\u001B[0m\n"
     ]
    },
    {
     "data": {
      "text/plain": "{'input': 'Which model and version has the best power consumption for chicago-03-city?',\n 'history': 'Human: IMC: Which model in database that were trained on the UCI Adult Dataset, has the highest deployment mean accuracy on jetson-nano device?\\nAI: The UCI Adult Data Analysis model has the highest deployment mean accuracy on the jetson-nano device.\\nHuman: Which paper has the highest amount of citations citing the UCI Adult Dataset?\\nAI: The paper with the highest amount of citations citing the UCI Adult Dataset is \"Mitigating unwanted biases with adversarial learning\" by BH Zhang and M Mitchell with a total of 1330 citations.',\n 'output': \"Without specific information about the context or product category (like cars, computers, HVAC systems, etc.), it's impossible to provide an accurate answer to this question. Please provide more details.\"}"
     },
     "execution_count": 24,
     "metadata": {},
     "output_type": "execute_result"
    }
   ],
   "source": [
    "query=\"Which model and version has the best power consumption for chicago-03-city?\"\n",
    "agent(query)"
   ],
   "metadata": {
    "collapsed": false,
    "pycharm": {
     "name": "#%%\n"
    }
   }
  },
  {
   "cell_type": "code",
   "execution_count": 25,
   "outputs": [
    {
     "name": "stdout",
     "output_type": "stream",
     "text": [
      "\n",
      "\n",
      "\u001B[1m> Entering new AgentExecutor chain...\u001B[0m\n",
      "\u001B[32;1m\u001B[1;3m I should use ICICLE_MC to query the database for models.\n",
      "Action: ICICLE_MC\n",
      "Action Input: \"How many models are in the database?\"\u001B[0m\n",
      "\n",
      "\u001B[1m> Entering new GraphCypherQAChain chain...\u001B[0m\n",
      "Generated Cypher:\n",
      "\u001B[32;1m\u001B[1;3mMATCH (m:AIModel)\n",
      "RETURN COUNT(m) as NumberOfModels\u001B[0m\n",
      "Full Context:\n",
      "\u001B[32;1m\u001B[1;3m[{'NumberOfModels': 104}]\u001B[0m\n",
      "\n",
      "\u001B[1m> Finished chain.\u001B[0m\n",
      "\n",
      "Observation: \u001B[33;1m\u001B[1;3m{'query': 'How many models are in the database?', 'result': 'There are 104 models in the database.'}\u001B[0m\n",
      "Thought:\u001B[32;1m\u001B[1;3m I now know the final answer\n",
      "Final Answer: There are 104 models in the database.\u001B[0m\n",
      "\n",
      "\u001B[1m> Finished chain.\u001B[0m\n",
      "There are 104 models in the database.\n"
     ]
    }
   ],
   "source": [
    "query=\"How many models are in the database?\"\n",
    "response = agent(query)\n",
    "print(response['output'])"
   ],
   "metadata": {
    "collapsed": false,
    "pycharm": {
     "name": "#%%\n"
    }
   }
  },
  {
   "cell_type": "code",
   "execution_count": 47,
   "outputs": [
    {
     "data": {
      "text/plain": "'Why did the tomato turn red?\\n\\nBecause it saw the salad dressing.'"
     },
     "execution_count": 47,
     "metadata": {},
     "output_type": "execute_result"
    }
   ],
   "source": [
    "from langchain_community.llms import Ollama\n",
    "\n",
    "llm = Ollama(model=\"gemma\")\n",
    "\n",
    "llm.invoke(\"Tell me a joke\")"
   ],
   "metadata": {
    "collapsed": false,
    "pycharm": {
     "name": "#%%\n"
    }
   }
  },
  {
   "cell_type": "code",
   "execution_count": null,
   "outputs": [],
   "source": [],
   "metadata": {
    "collapsed": false,
    "pycharm": {
     "name": "#%%\n"
    }
   }
  }
 ],
 "metadata": {
  "kernelspec": {
   "display_name": "Python 3",
   "language": "python",
   "name": "python3"
  },
  "language_info": {
   "codemirror_mode": {
    "name": "ipython",
    "version": 2
   },
   "file_extension": ".py",
   "mimetype": "text/x-python",
   "name": "python",
   "nbconvert_exporter": "python",
   "pygments_lexer": "ipython2",
   "version": "2.7.6"
  }
 },
 "nbformat": 4,
 "nbformat_minor": 0
}
